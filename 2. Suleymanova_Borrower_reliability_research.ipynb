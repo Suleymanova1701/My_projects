{
 "cells": [
  {
   "cell_type": "markdown",
   "id": "2fe445a9",
   "metadata": {},
   "source": [
    "<div style=\"border:solid blue 3px; padding: 20px\">\n",
    "<b>Привет Александр! 👋</b>\n",
    "\n",
    "Рада познакомиться, конечно, можно на \"ты\" 🙂\n",
    "\n",
    "Большое спасибо за обратную связь и подсказки, направляю исправленный проект. \n",
    "Я постаралась учесть все замечания, не удаляла старый код, но добавила в блоки комментарии, что он старый.\n",
    "Для новых вариантов я создала блоки под старыми.  \n",
    "    А также добавила комментарии, скопировав у тебя рамку для этого 🤓  \n",
    "    \n",
    "    С нетерпением жду обратной связи и большое спасибо за комментарии)    \n",
    "    "
   ]
  },
  {
   "cell_type": "markdown",
   "id": "13e4caa3",
   "metadata": {},
   "source": [
    "<div class=\"alert alert-success\">\n",
    "<b>Комментарий ревьюера - все отлично! ✅ </b>\n",
    "\n",
    "Круто, спасибо! ⭐️🍀😎 \n",
    "</div>"
   ]
  },
  {
   "cell_type": "markdown",
   "id": "5d91175c",
   "metadata": {},
   "source": [
    "<div style=\"border:solid green 3px; padding: 20px\">\n",
    "<b>Привет Розалия! 👋</b>\n",
    "\n",
    "Меня зовут Александр Базилевич и я буду проверять твой проект. Предлагаю общаться на «ты» 🙂 Если это не удобно на ты - дай знать, и мы перейдем на \"вы\". Моя основная цель — не указать на совершенные тобою ошибки, а поделиться своим опытом и помочь тебе стать аналитиком данных\n",
    "\n",
    "Вижу выполнение всех заданий и наличие выводов. Все ключевые этапы в работе выполнены, так что в целом справиться с задачей тебе удалось. Есть ещё некоторые вопросы, которые требуют твоего внимания. Комментарии по ним помечены <font color='red'>красным цветом</font> ❌. После их доработки проект будет принят. Осталось совсем немного, буду ждать твою работу на повторное ревью 🙂\n",
    "\n",
    "Давай работать над проектом в диалоге: если ты <b>что-то меняешь</b> в проекте по моим рекомендациям — <b>пиши об этом</b>. Выбери для своих комментариев какой-то заметный цвет, так мне будет легче отследить изменения. Пожалуйста, <b>не перемещай, не изменяй и не удаляй мои комментарии</b>. Всё это поможет выполнить повторную проверку твоего проекта оперативнее\n",
    "\n",
    "Ты также можешь реагировать на мои комментарии своими, выделяя их цветами и наиболее понравившимся тебе способом оформления, но явно  отличающимся от моих комментариев. Это нужно, чтобы не создавалась путаница 😉\n",
    "\n",
    "<div class=\"alert alert-success\">\n",
    "<b>Комментарий ревьюера - все отлично! ✅</b>\n",
    "\n",
    "В случае, если решение на отдельном шаге является полностью правильным 👍 Так будут отмечены удачные и элегантные решения, на которые можно опираться в будущих проектах\n",
    "</div>\n",
    "\n",
    "<div class=\"alert alert-warning\">\n",
    "<b>Комментарий ревьюера - замечания и рекомендации ⚠️</b>\n",
    "\n",
    "В случае, когда решение на отдельном шаге станет еще лучше, если внести небольшие коррективы. Ты можешь учесть эти комментарии при выполнении будущих заданий или доработать проект сейчас (однако это не обязательно)\n",
    "</div>\n",
    "    \n",
    "<div class=\"alert alert-block alert-danger\">\n",
    "<b>Комментарий ревьюера - на доработку ❌</b>   \n",
    "\n",
    "В случае, когда решение на отдельном шаге требует существенной переработки и внесения правок. Напоминаю, что проект не может быть принят с первого раза, если ревью содержит комментарии, рекомендующие доработать шаги\n",
    "</div>\n",
    "    \n",
    "Увидев у тебя неточность, в первый раз я лишь укажу на ее наличие и дам тебе возможность найти и исправить ее. На реальной работе твой руководитель будет поступать также, и я пытаюсь подготовить тебя именно к работе аналитиком. Но если ты пока не справишься с такой задачей - при следующей проверке я дам более точную подсказку! 🤓\n",
    "</div> "
   ]
  },
  {
   "cell_type": "markdown",
   "id": "386f2ae7",
   "metadata": {
    "deletable": false,
    "editable": false,
    "id": "386f2ae7"
   },
   "source": [
    "# Исследование надежности заемщиков\n"
   ]
  },
  {
   "cell_type": "markdown",
   "id": "ffe86f65",
   "metadata": {
    "deletable": false,
    "editable": false,
    "id": "ffe86f65"
   },
   "source": [
    "Во второй части проекта вы выполните шаги 3 и 4. Их вручную проверит ревьюер.\n",
    "Чтобы вам не пришлось писать код заново для шагов 1 и 2, мы добавили авторские решения в ячейки с кодом. \n",
    "\n"
   ]
  },
  {
   "cell_type": "markdown",
   "id": "26613308",
   "metadata": {
    "deletable": false,
    "editable": false,
    "id": "26613308"
   },
   "source": [
    "## Откройте таблицу и изучите общую информацию о данных"
   ]
  },
  {
   "cell_type": "markdown",
   "id": "3c9f838e",
   "metadata": {
    "deletable": false,
    "editable": false,
    "id": "3c9f838e"
   },
   "source": [
    "**Задание 1. Импортируйте библиотеку pandas. Считайте данные из csv-файла в датафрейм и сохраните в переменную `data`. Путь к файлу:**\n",
    "\n",
    "`/datasets/data.csv`"
   ]
  },
  {
   "cell_type": "code",
   "execution_count": 1,
   "id": "77a68a90",
   "metadata": {
    "deletable": false,
    "id": "77a68a90"
   },
   "outputs": [],
   "source": [
    "import pandas as pd\n",
    "\n",
    "try:\n",
    "    data = pd.read_csv('/datasets/data.csv')\n",
    "except:\n",
    "    data = pd.read_csv('https://code.s3.yandex.net/datasets/data.csv')"
   ]
  },
  {
   "cell_type": "markdown",
   "id": "45365635",
   "metadata": {
    "deletable": false,
    "editable": false,
    "id": "45365635"
   },
   "source": [
    "**Задание 2. Выведите первые 20 строчек датафрейма `data` на экран.**"
   ]
  },
  {
   "cell_type": "code",
   "execution_count": 2,
   "id": "b0451a9a",
   "metadata": {
    "deletable": false,
    "id": "b0451a9a",
    "outputId": "1a8f3ef2-d323-4ec2-ddf7-89670b5944c4"
   },
   "outputs": [
    {
     "data": {
      "text/html": [
       "<div>\n",
       "<style scoped>\n",
       "    .dataframe tbody tr th:only-of-type {\n",
       "        vertical-align: middle;\n",
       "    }\n",
       "\n",
       "    .dataframe tbody tr th {\n",
       "        vertical-align: top;\n",
       "    }\n",
       "\n",
       "    .dataframe thead th {\n",
       "        text-align: right;\n",
       "    }\n",
       "</style>\n",
       "<table border=\"1\" class=\"dataframe\">\n",
       "  <thead>\n",
       "    <tr style=\"text-align: right;\">\n",
       "      <th></th>\n",
       "      <th>children</th>\n",
       "      <th>days_employed</th>\n",
       "      <th>dob_years</th>\n",
       "      <th>education</th>\n",
       "      <th>education_id</th>\n",
       "      <th>family_status</th>\n",
       "      <th>family_status_id</th>\n",
       "      <th>gender</th>\n",
       "      <th>income_type</th>\n",
       "      <th>debt</th>\n",
       "      <th>total_income</th>\n",
       "      <th>purpose</th>\n",
       "    </tr>\n",
       "  </thead>\n",
       "  <tbody>\n",
       "    <tr>\n",
       "      <th>0</th>\n",
       "      <td>1</td>\n",
       "      <td>-8437.673028</td>\n",
       "      <td>42</td>\n",
       "      <td>высшее</td>\n",
       "      <td>0</td>\n",
       "      <td>женат / замужем</td>\n",
       "      <td>0</td>\n",
       "      <td>F</td>\n",
       "      <td>сотрудник</td>\n",
       "      <td>0</td>\n",
       "      <td>253875.639453</td>\n",
       "      <td>покупка жилья</td>\n",
       "    </tr>\n",
       "    <tr>\n",
       "      <th>1</th>\n",
       "      <td>1</td>\n",
       "      <td>-4024.803754</td>\n",
       "      <td>36</td>\n",
       "      <td>среднее</td>\n",
       "      <td>1</td>\n",
       "      <td>женат / замужем</td>\n",
       "      <td>0</td>\n",
       "      <td>F</td>\n",
       "      <td>сотрудник</td>\n",
       "      <td>0</td>\n",
       "      <td>112080.014102</td>\n",
       "      <td>приобретение автомобиля</td>\n",
       "    </tr>\n",
       "    <tr>\n",
       "      <th>2</th>\n",
       "      <td>0</td>\n",
       "      <td>-5623.422610</td>\n",
       "      <td>33</td>\n",
       "      <td>Среднее</td>\n",
       "      <td>1</td>\n",
       "      <td>женат / замужем</td>\n",
       "      <td>0</td>\n",
       "      <td>M</td>\n",
       "      <td>сотрудник</td>\n",
       "      <td>0</td>\n",
       "      <td>145885.952297</td>\n",
       "      <td>покупка жилья</td>\n",
       "    </tr>\n",
       "    <tr>\n",
       "      <th>3</th>\n",
       "      <td>3</td>\n",
       "      <td>-4124.747207</td>\n",
       "      <td>32</td>\n",
       "      <td>среднее</td>\n",
       "      <td>1</td>\n",
       "      <td>женат / замужем</td>\n",
       "      <td>0</td>\n",
       "      <td>M</td>\n",
       "      <td>сотрудник</td>\n",
       "      <td>0</td>\n",
       "      <td>267628.550329</td>\n",
       "      <td>дополнительное образование</td>\n",
       "    </tr>\n",
       "    <tr>\n",
       "      <th>4</th>\n",
       "      <td>0</td>\n",
       "      <td>340266.072047</td>\n",
       "      <td>53</td>\n",
       "      <td>среднее</td>\n",
       "      <td>1</td>\n",
       "      <td>гражданский брак</td>\n",
       "      <td>1</td>\n",
       "      <td>F</td>\n",
       "      <td>пенсионер</td>\n",
       "      <td>0</td>\n",
       "      <td>158616.077870</td>\n",
       "      <td>сыграть свадьбу</td>\n",
       "    </tr>\n",
       "    <tr>\n",
       "      <th>5</th>\n",
       "      <td>0</td>\n",
       "      <td>-926.185831</td>\n",
       "      <td>27</td>\n",
       "      <td>высшее</td>\n",
       "      <td>0</td>\n",
       "      <td>гражданский брак</td>\n",
       "      <td>1</td>\n",
       "      <td>M</td>\n",
       "      <td>компаньон</td>\n",
       "      <td>0</td>\n",
       "      <td>255763.565419</td>\n",
       "      <td>покупка жилья</td>\n",
       "    </tr>\n",
       "    <tr>\n",
       "      <th>6</th>\n",
       "      <td>0</td>\n",
       "      <td>-2879.202052</td>\n",
       "      <td>43</td>\n",
       "      <td>высшее</td>\n",
       "      <td>0</td>\n",
       "      <td>женат / замужем</td>\n",
       "      <td>0</td>\n",
       "      <td>F</td>\n",
       "      <td>компаньон</td>\n",
       "      <td>0</td>\n",
       "      <td>240525.971920</td>\n",
       "      <td>операции с жильем</td>\n",
       "    </tr>\n",
       "    <tr>\n",
       "      <th>7</th>\n",
       "      <td>0</td>\n",
       "      <td>-152.779569</td>\n",
       "      <td>50</td>\n",
       "      <td>СРЕДНЕЕ</td>\n",
       "      <td>1</td>\n",
       "      <td>женат / замужем</td>\n",
       "      <td>0</td>\n",
       "      <td>M</td>\n",
       "      <td>сотрудник</td>\n",
       "      <td>0</td>\n",
       "      <td>135823.934197</td>\n",
       "      <td>образование</td>\n",
       "    </tr>\n",
       "    <tr>\n",
       "      <th>8</th>\n",
       "      <td>2</td>\n",
       "      <td>-6929.865299</td>\n",
       "      <td>35</td>\n",
       "      <td>ВЫСШЕЕ</td>\n",
       "      <td>0</td>\n",
       "      <td>гражданский брак</td>\n",
       "      <td>1</td>\n",
       "      <td>F</td>\n",
       "      <td>сотрудник</td>\n",
       "      <td>0</td>\n",
       "      <td>95856.832424</td>\n",
       "      <td>на проведение свадьбы</td>\n",
       "    </tr>\n",
       "    <tr>\n",
       "      <th>9</th>\n",
       "      <td>0</td>\n",
       "      <td>-2188.756445</td>\n",
       "      <td>41</td>\n",
       "      <td>среднее</td>\n",
       "      <td>1</td>\n",
       "      <td>женат / замужем</td>\n",
       "      <td>0</td>\n",
       "      <td>M</td>\n",
       "      <td>сотрудник</td>\n",
       "      <td>0</td>\n",
       "      <td>144425.938277</td>\n",
       "      <td>покупка жилья для семьи</td>\n",
       "    </tr>\n",
       "    <tr>\n",
       "      <th>10</th>\n",
       "      <td>2</td>\n",
       "      <td>-4171.483647</td>\n",
       "      <td>36</td>\n",
       "      <td>высшее</td>\n",
       "      <td>0</td>\n",
       "      <td>женат / замужем</td>\n",
       "      <td>0</td>\n",
       "      <td>M</td>\n",
       "      <td>компаньон</td>\n",
       "      <td>0</td>\n",
       "      <td>113943.491460</td>\n",
       "      <td>покупка недвижимости</td>\n",
       "    </tr>\n",
       "    <tr>\n",
       "      <th>11</th>\n",
       "      <td>0</td>\n",
       "      <td>-792.701887</td>\n",
       "      <td>40</td>\n",
       "      <td>среднее</td>\n",
       "      <td>1</td>\n",
       "      <td>женат / замужем</td>\n",
       "      <td>0</td>\n",
       "      <td>F</td>\n",
       "      <td>сотрудник</td>\n",
       "      <td>0</td>\n",
       "      <td>77069.234271</td>\n",
       "      <td>покупка коммерческой недвижимости</td>\n",
       "    </tr>\n",
       "    <tr>\n",
       "      <th>12</th>\n",
       "      <td>0</td>\n",
       "      <td>NaN</td>\n",
       "      <td>65</td>\n",
       "      <td>среднее</td>\n",
       "      <td>1</td>\n",
       "      <td>гражданский брак</td>\n",
       "      <td>1</td>\n",
       "      <td>M</td>\n",
       "      <td>пенсионер</td>\n",
       "      <td>0</td>\n",
       "      <td>NaN</td>\n",
       "      <td>сыграть свадьбу</td>\n",
       "    </tr>\n",
       "    <tr>\n",
       "      <th>13</th>\n",
       "      <td>0</td>\n",
       "      <td>-1846.641941</td>\n",
       "      <td>54</td>\n",
       "      <td>неоконченное высшее</td>\n",
       "      <td>2</td>\n",
       "      <td>женат / замужем</td>\n",
       "      <td>0</td>\n",
       "      <td>F</td>\n",
       "      <td>сотрудник</td>\n",
       "      <td>0</td>\n",
       "      <td>130458.228857</td>\n",
       "      <td>приобретение автомобиля</td>\n",
       "    </tr>\n",
       "    <tr>\n",
       "      <th>14</th>\n",
       "      <td>0</td>\n",
       "      <td>-1844.956182</td>\n",
       "      <td>56</td>\n",
       "      <td>высшее</td>\n",
       "      <td>0</td>\n",
       "      <td>гражданский брак</td>\n",
       "      <td>1</td>\n",
       "      <td>F</td>\n",
       "      <td>компаньон</td>\n",
       "      <td>1</td>\n",
       "      <td>165127.911772</td>\n",
       "      <td>покупка жилой недвижимости</td>\n",
       "    </tr>\n",
       "    <tr>\n",
       "      <th>15</th>\n",
       "      <td>1</td>\n",
       "      <td>-972.364419</td>\n",
       "      <td>26</td>\n",
       "      <td>среднее</td>\n",
       "      <td>1</td>\n",
       "      <td>женат / замужем</td>\n",
       "      <td>0</td>\n",
       "      <td>F</td>\n",
       "      <td>сотрудник</td>\n",
       "      <td>0</td>\n",
       "      <td>116820.904450</td>\n",
       "      <td>строительство собственной недвижимости</td>\n",
       "    </tr>\n",
       "    <tr>\n",
       "      <th>16</th>\n",
       "      <td>0</td>\n",
       "      <td>-1719.934226</td>\n",
       "      <td>35</td>\n",
       "      <td>среднее</td>\n",
       "      <td>1</td>\n",
       "      <td>женат / замужем</td>\n",
       "      <td>0</td>\n",
       "      <td>F</td>\n",
       "      <td>сотрудник</td>\n",
       "      <td>0</td>\n",
       "      <td>289202.704229</td>\n",
       "      <td>недвижимость</td>\n",
       "    </tr>\n",
       "    <tr>\n",
       "      <th>17</th>\n",
       "      <td>0</td>\n",
       "      <td>-2369.999720</td>\n",
       "      <td>33</td>\n",
       "      <td>высшее</td>\n",
       "      <td>0</td>\n",
       "      <td>гражданский брак</td>\n",
       "      <td>1</td>\n",
       "      <td>M</td>\n",
       "      <td>сотрудник</td>\n",
       "      <td>0</td>\n",
       "      <td>90410.586745</td>\n",
       "      <td>строительство недвижимости</td>\n",
       "    </tr>\n",
       "    <tr>\n",
       "      <th>18</th>\n",
       "      <td>0</td>\n",
       "      <td>400281.136913</td>\n",
       "      <td>53</td>\n",
       "      <td>среднее</td>\n",
       "      <td>1</td>\n",
       "      <td>вдовец / вдова</td>\n",
       "      <td>2</td>\n",
       "      <td>F</td>\n",
       "      <td>пенсионер</td>\n",
       "      <td>0</td>\n",
       "      <td>56823.777243</td>\n",
       "      <td>на покупку подержанного автомобиля</td>\n",
       "    </tr>\n",
       "    <tr>\n",
       "      <th>19</th>\n",
       "      <td>0</td>\n",
       "      <td>-10038.818549</td>\n",
       "      <td>48</td>\n",
       "      <td>СРЕДНЕЕ</td>\n",
       "      <td>1</td>\n",
       "      <td>в разводе</td>\n",
       "      <td>3</td>\n",
       "      <td>F</td>\n",
       "      <td>сотрудник</td>\n",
       "      <td>0</td>\n",
       "      <td>242831.107982</td>\n",
       "      <td>на покупку своего автомобиля</td>\n",
       "    </tr>\n",
       "  </tbody>\n",
       "</table>\n",
       "</div>"
      ],
      "text/plain": [
       "    children  days_employed  dob_years            education  education_id  \\\n",
       "0          1   -8437.673028         42               высшее             0   \n",
       "1          1   -4024.803754         36              среднее             1   \n",
       "2          0   -5623.422610         33              Среднее             1   \n",
       "3          3   -4124.747207         32              среднее             1   \n",
       "4          0  340266.072047         53              среднее             1   \n",
       "5          0    -926.185831         27               высшее             0   \n",
       "6          0   -2879.202052         43               высшее             0   \n",
       "7          0    -152.779569         50              СРЕДНЕЕ             1   \n",
       "8          2   -6929.865299         35               ВЫСШЕЕ             0   \n",
       "9          0   -2188.756445         41              среднее             1   \n",
       "10         2   -4171.483647         36               высшее             0   \n",
       "11         0    -792.701887         40              среднее             1   \n",
       "12         0            NaN         65              среднее             1   \n",
       "13         0   -1846.641941         54  неоконченное высшее             2   \n",
       "14         0   -1844.956182         56               высшее             0   \n",
       "15         1    -972.364419         26              среднее             1   \n",
       "16         0   -1719.934226         35              среднее             1   \n",
       "17         0   -2369.999720         33               высшее             0   \n",
       "18         0  400281.136913         53              среднее             1   \n",
       "19         0  -10038.818549         48              СРЕДНЕЕ             1   \n",
       "\n",
       "       family_status  family_status_id gender income_type  debt  \\\n",
       "0    женат / замужем                 0      F   сотрудник     0   \n",
       "1    женат / замужем                 0      F   сотрудник     0   \n",
       "2    женат / замужем                 0      M   сотрудник     0   \n",
       "3    женат / замужем                 0      M   сотрудник     0   \n",
       "4   гражданский брак                 1      F   пенсионер     0   \n",
       "5   гражданский брак                 1      M   компаньон     0   \n",
       "6    женат / замужем                 0      F   компаньон     0   \n",
       "7    женат / замужем                 0      M   сотрудник     0   \n",
       "8   гражданский брак                 1      F   сотрудник     0   \n",
       "9    женат / замужем                 0      M   сотрудник     0   \n",
       "10   женат / замужем                 0      M   компаньон     0   \n",
       "11   женат / замужем                 0      F   сотрудник     0   \n",
       "12  гражданский брак                 1      M   пенсионер     0   \n",
       "13   женат / замужем                 0      F   сотрудник     0   \n",
       "14  гражданский брак                 1      F   компаньон     1   \n",
       "15   женат / замужем                 0      F   сотрудник     0   \n",
       "16   женат / замужем                 0      F   сотрудник     0   \n",
       "17  гражданский брак                 1      M   сотрудник     0   \n",
       "18    вдовец / вдова                 2      F   пенсионер     0   \n",
       "19         в разводе                 3      F   сотрудник     0   \n",
       "\n",
       "     total_income                                 purpose  \n",
       "0   253875.639453                           покупка жилья  \n",
       "1   112080.014102                 приобретение автомобиля  \n",
       "2   145885.952297                           покупка жилья  \n",
       "3   267628.550329              дополнительное образование  \n",
       "4   158616.077870                         сыграть свадьбу  \n",
       "5   255763.565419                           покупка жилья  \n",
       "6   240525.971920                       операции с жильем  \n",
       "7   135823.934197                             образование  \n",
       "8    95856.832424                   на проведение свадьбы  \n",
       "9   144425.938277                 покупка жилья для семьи  \n",
       "10  113943.491460                    покупка недвижимости  \n",
       "11   77069.234271       покупка коммерческой недвижимости  \n",
       "12            NaN                         сыграть свадьбу  \n",
       "13  130458.228857                 приобретение автомобиля  \n",
       "14  165127.911772              покупка жилой недвижимости  \n",
       "15  116820.904450  строительство собственной недвижимости  \n",
       "16  289202.704229                            недвижимость  \n",
       "17   90410.586745              строительство недвижимости  \n",
       "18   56823.777243      на покупку подержанного автомобиля  \n",
       "19  242831.107982            на покупку своего автомобиля  "
      ]
     },
     "execution_count": 2,
     "metadata": {},
     "output_type": "execute_result"
    }
   ],
   "source": [
    "# используем метод head() для вывода первых 20-ти строк датафрейма\n",
    "data.head(20)"
   ]
  },
  {
   "cell_type": "markdown",
   "id": "0ed8f27f",
   "metadata": {
    "deletable": false,
    "editable": false,
    "id": "0ed8f27f"
   },
   "source": [
    "**Задание 3. Выведите основную информацию о датафрейме с помощью метода `info()`.**"
   ]
  },
  {
   "cell_type": "code",
   "execution_count": 3,
   "id": "ab3f863b",
   "metadata": {
    "deletable": false,
    "id": "ab3f863b",
    "outputId": "15376089-8dad-46c9-b520-c05248d43158"
   },
   "outputs": [
    {
     "name": "stdout",
     "output_type": "stream",
     "text": [
      "<class 'pandas.core.frame.DataFrame'>\n",
      "RangeIndex: 21525 entries, 0 to 21524\n",
      "Data columns (total 12 columns):\n",
      " #   Column            Non-Null Count  Dtype  \n",
      "---  ------            --------------  -----  \n",
      " 0   children          21525 non-null  int64  \n",
      " 1   days_employed     19351 non-null  float64\n",
      " 2   dob_years         21525 non-null  int64  \n",
      " 3   education         21525 non-null  object \n",
      " 4   education_id      21525 non-null  int64  \n",
      " 5   family_status     21525 non-null  object \n",
      " 6   family_status_id  21525 non-null  int64  \n",
      " 7   gender            21525 non-null  object \n",
      " 8   income_type       21525 non-null  object \n",
      " 9   debt              21525 non-null  int64  \n",
      " 10  total_income      19351 non-null  float64\n",
      " 11  purpose           21525 non-null  object \n",
      "dtypes: float64(2), int64(5), object(5)\n",
      "memory usage: 2.0+ MB\n"
     ]
    }
   ],
   "source": [
    "# выводим основную информацию датафрейма с помощью метода info()\n",
    "data.info()"
   ]
  },
  {
   "cell_type": "markdown",
   "id": "60e3e22d",
   "metadata": {
    "deletable": false,
    "editable": false,
    "id": "60e3e22d"
   },
   "source": [
    "## Предобработка данных"
   ]
  },
  {
   "cell_type": "markdown",
   "id": "03dc170c",
   "metadata": {
    "deletable": false,
    "editable": false,
    "id": "03dc170c"
   },
   "source": [
    "### Удаление пропусков"
   ]
  },
  {
   "cell_type": "markdown",
   "id": "a4f54eef",
   "metadata": {
    "deletable": false,
    "editable": false,
    "id": "a4f54eef"
   },
   "source": [
    "**Задание 4. Выведите количество пропущенных значений для каждого столбца. Используйте комбинацию двух методов.**"
   ]
  },
  {
   "cell_type": "code",
   "execution_count": 4,
   "id": "2dc372b2",
   "metadata": {
    "deletable": false,
    "id": "2dc372b2",
    "outputId": "81f4d817-781c-465c-ed15-91ce4446810d"
   },
   "outputs": [
    {
     "data": {
      "text/plain": [
       "children               0\n",
       "days_employed       2174\n",
       "dob_years              0\n",
       "education              0\n",
       "education_id           0\n",
       "family_status          0\n",
       "family_status_id       0\n",
       "gender                 0\n",
       "income_type            0\n",
       "debt                   0\n",
       "total_income        2174\n",
       "purpose                0\n",
       "dtype: int64"
      ]
     },
     "execution_count": 4,
     "metadata": {},
     "output_type": "execute_result"
    }
   ],
   "source": [
    "# считаем сумму пропусков каждого столбца с помощью последовательного применения методов isna() и sum()\n",
    "data.isna().sum()"
   ]
  },
  {
   "cell_type": "markdown",
   "id": "57a33576",
   "metadata": {},
   "source": [
    "Обнаружены пропущенные значения в столбцах с данными о трудовом стаже (days_employed - 2 174(10,10%)) и о доходе (total_income - 2 174(10,10%)).\n",
    "\n",
    "Такая доля пропусков может существенно влиять на отдельные расчёты если пропуски в малых категориях заёмщиков (income_type)\n",
    "\n",
    "Каждый из столбцов с пропущенными значениями отражает количественные переменные. Пропуски мы можем заполнить медианным значением каждой из групп (income_type). Это позволит нам сохранить важную информацию датафрейма.\n",
    "\n",
    "Для этого сгруппируем потенциальных заёмщиков по типу занятости, рассчитаем медианное значение дохода каждой из групп и заменим им пропущенные значения."
   ]
  },
  {
   "cell_type": "markdown",
   "id": "14f011b1",
   "metadata": {
    "deletable": false,
    "editable": false,
    "id": "14f011b1"
   },
   "source": [
    "**Задание 5. В двух столбцах есть пропущенные значения. Один из них — `days_employed`. Пропуски в этом столбце вы обработаете на следующем этапе. Другой столбец с пропущенными значениями — `total_income` — хранит данные о доходах. На сумму дохода сильнее всего влияет тип занятости, поэтому заполнить пропуски в этом столбце нужно медианным значением по каждому типу из столбца `income_type`. Например, у человека с типом занятости `сотрудник` пропуск в столбце `total_income` должен быть заполнен медианным доходом среди всех записей с тем же типом.**"
   ]
  },
  {
   "cell_type": "code",
   "execution_count": 5,
   "id": "bdabfb6e",
   "metadata": {
    "deletable": false,
    "id": "bdabfb6e"
   },
   "outputs": [
    {
     "data": {
      "text/plain": [
       "0"
      ]
     },
     "execution_count": 5,
     "metadata": {},
     "output_type": "execute_result"
    }
   ],
   "source": [
    "# Создаём функцию, которая заполнит все пропуски в столбце с доходами медианными занчениями групп по типу занятости\n",
    "\n",
    "for t in data['income_type'].unique():\n",
    "    \n",
    "    '''\n",
    "    на каждом шаге цикла с помощью атрибута loc выбираем строки,\n",
    "    в которых в income_type текущий тип занятости (i) и есть пропуски в total_income \n",
    "    и записываем в них медианное значение total_income среди строк с текущим типом занятости (i)\n",
    "    '''\n",
    "        \n",
    "    data.loc[(data['income_type'] == t) & (data['total_income'].isna()), 'total_income'] = \\\n",
    "    data.loc[(data['income_type'] == t), 'total_income'].median()\n",
    "   \n",
    "# проверяем, что все пропуски заполнены\n",
    "data['total_income'].isna().sum()"
   ]
  },
  {
   "cell_type": "markdown",
   "id": "5be34059",
   "metadata": {
    "deletable": false,
    "editable": false,
    "id": "5be34059"
   },
   "source": [
    "### Обработка аномальных значений"
   ]
  },
  {
   "cell_type": "markdown",
   "id": "a87606cb",
   "metadata": {
    "deletable": false,
    "editable": false,
    "id": "a87606cb"
   },
   "source": [
    "**Задание 6. В данных могут встречаться артефакты (аномалии) — значения, которые не отражают действительность и появились по какой-то ошибке. таким артефактом будет отрицательное количество дней трудового стажа в столбце `days_employed`. Для реальных данных это нормально. Обработайте значения в этом столбце: замените все отрицательные значения положительными с помощью метода `abs()`.**"
   ]
  },
  {
   "cell_type": "code",
   "execution_count": 6,
   "id": "020c46cc",
   "metadata": {
    "deletable": false,
    "id": "020c46cc"
   },
   "outputs": [],
   "source": [
    "#К столбцу с данными о стаже применяем функцию модуля и избавляемся от аномалий\n",
    "data['days_employed'] = data['days_employed'].abs()"
   ]
  },
  {
   "cell_type": "markdown",
   "id": "45538a3a",
   "metadata": {
    "deletable": false,
    "editable": false,
    "id": "45538a3a"
   },
   "source": [
    "**Задание 7. Для каждого типа занятости выведите медианное значение трудового стажа `days_employed` в днях.**"
   ]
  },
  {
   "cell_type": "code",
   "execution_count": 7,
   "id": "cd3e6328",
   "metadata": {
    "deletable": false,
    "id": "cd3e6328",
    "outputId": "801ef80e-522b-4668-f34e-565af7432bcf"
   },
   "outputs": [
    {
     "data": {
      "text/plain": [
       "income_type\n",
       "безработный        366413.652744\n",
       "в декрете            3296.759962\n",
       "госслужащий          2689.368353\n",
       "компаньон            1547.382223\n",
       "пенсионер          365213.306266\n",
       "предприниматель       520.848083\n",
       "сотрудник            1574.202821\n",
       "студент               578.751554\n",
       "Name: days_employed, dtype: float64"
      ]
     },
     "execution_count": 7,
     "metadata": {},
     "output_type": "execute_result"
    }
   ],
   "source": [
    "# Выводим медианные значения о трудовом стаже каждой из групп\n",
    "data.groupby('income_type')['days_employed'].agg('median')"
   ]
  },
  {
   "cell_type": "markdown",
   "id": "90c5f058",
   "metadata": {
    "deletable": false,
    "editable": false,
    "id": "90c5f058"
   },
   "source": [
    "У двух типов (безработные и пенсионеры) получатся аномально большие значения. Исправить такие значения сложно, поэтому оставьте их как есть."
   ]
  },
  {
   "cell_type": "markdown",
   "id": "9652e50d",
   "metadata": {
    "deletable": false,
    "editable": false,
    "id": "9652e50d"
   },
   "source": [
    "**Задание 8. Выведите перечень уникальных значений столбца `children`.**"
   ]
  },
  {
   "cell_type": "code",
   "execution_count": 8,
   "id": "dbb37b8e",
   "metadata": {
    "deletable": false,
    "id": "dbb37b8e",
    "outputId": "6975b15c-7f95-4697-d16d-a0c79b657b03"
   },
   "outputs": [
    {
     "data": {
      "text/plain": [
       "array([ 1,  0,  3,  2, -1,  4, 20,  5])"
      ]
     },
     "execution_count": 8,
     "metadata": {},
     "output_type": "execute_result"
    }
   ],
   "source": [
    "# применяем метод unique() к столбцу 'children'\n",
    "data['children'].unique()"
   ]
  },
  {
   "cell_type": "markdown",
   "id": "f24a8f6c",
   "metadata": {},
   "source": [
    "В столбце 'children' обнаружено два аномальных значения: -1 и 20. Такое количество детей вряд ли может быть реальным. Их следует исключить во избежание неверных выводов."
   ]
  },
  {
   "cell_type": "markdown",
   "id": "2b8b0715",
   "metadata": {
    "deletable": false,
    "editable": false,
    "id": "2b8b0715"
   },
   "source": [
    "**Задание 9. В столбце `children` есть два аномальных значения. Удалите строки, в которых встречаются такие аномальные значения из датафрейма `data`.**"
   ]
  },
  {
   "cell_type": "code",
   "execution_count": 9,
   "id": "20009df8",
   "metadata": {
    "deletable": false,
    "id": "20009df8"
   },
   "outputs": [],
   "source": [
    "# с помощью метода loc исключаем строки с аномальными значениями в столбце 'children' \n",
    "data = data[(data['children'] != -1) & (data['children'] != 20)]"
   ]
  },
  {
   "cell_type": "markdown",
   "id": "8c6ac9f1",
   "metadata": {
    "deletable": false,
    "editable": false,
    "id": "8c6ac9f1"
   },
   "source": [
    "**Задание 10. Ещё раз выведите перечень уникальных значений столбца `children`, чтобы убедиться, что артефакты удалены.**"
   ]
  },
  {
   "cell_type": "code",
   "execution_count": 10,
   "id": "07337b81",
   "metadata": {
    "deletable": false,
    "id": "07337b81",
    "outputId": "b2097101-d49d-44d9-901b-32a65c9463d1"
   },
   "outputs": [
    {
     "data": {
      "text/plain": [
       "array([1, 0, 3, 2, 4, 5])"
      ]
     },
     "execution_count": 10,
     "metadata": {},
     "output_type": "execute_result"
    }
   ],
   "source": [
    "# ещё раз применяем метод unique() к столбцу 'children' для проверки на отсутствие аномалий\n",
    "data['children'].unique()"
   ]
  },
  {
   "cell_type": "markdown",
   "id": "ee3f52d4",
   "metadata": {
    "deletable": false,
    "editable": false,
    "id": "ee3f52d4"
   },
   "source": [
    "### Удаление пропусков (продолжение)"
   ]
  },
  {
   "cell_type": "markdown",
   "id": "a700b0e4",
   "metadata": {
    "deletable": false,
    "editable": false,
    "id": "a700b0e4"
   },
   "source": [
    "**Задание 11. Заполните пропуски в столбце `days_employed` медианными значениями по каждого типа занятости `income_type`.**"
   ]
  },
  {
   "cell_type": "code",
   "execution_count": 11,
   "id": "61946b83",
   "metadata": {
    "deletable": false,
    "id": "61946b83"
   },
   "outputs": [
    {
     "data": {
      "text/plain": [
       "0"
      ]
     },
     "execution_count": 11,
     "metadata": {},
     "output_type": "execute_result"
    }
   ],
   "source": [
    "# Создаём функцию, которая заполнит все пропуски в столбце со стажем медианными занчениями групп по типу занятости\n",
    "\n",
    "for t in data['income_type'].unique():\n",
    "    \n",
    "    # на каждом шаге цикла с помощью атрибута loc выбираем строки,\n",
    "    # в которых в days_employed текущий тип занятости (d) и есть пропуски в days_employed \n",
    "    # и записываем в них медианное значение total_income среди строк с текущим типом занятости (d)\n",
    "    \n",
    "    data.loc[(data['income_type'] == t) & (data['days_employed'].isna()), 'days_employed'] = \\\n",
    "    data.loc[(data['income_type'] == t), 'days_employed'].median()\n",
    "    \n",
    "# проверяем, что все пропуски заполнены\n",
    "data['days_employed'].isna().sum()"
   ]
  },
  {
   "cell_type": "markdown",
   "id": "550dcd9b",
   "metadata": {
    "deletable": false,
    "editable": false,
    "id": "550dcd9b"
   },
   "source": [
    "**Задание 12. Убедитесь, что все пропуски заполнены. Проверьте себя и ещё раз выведите количество пропущенных значений для каждого столбца с помощью двух методов.**"
   ]
  },
  {
   "cell_type": "code",
   "execution_count": 12,
   "id": "937c7014",
   "metadata": {
    "deletable": false,
    "id": "937c7014",
    "outputId": "8da1e4e1-358e-4e87-98c9-f261bce0a7b2"
   },
   "outputs": [
    {
     "data": {
      "text/plain": [
       "children            0\n",
       "days_employed       0\n",
       "dob_years           0\n",
       "education           0\n",
       "education_id        0\n",
       "family_status       0\n",
       "family_status_id    0\n",
       "gender              0\n",
       "income_type         0\n",
       "debt                0\n",
       "total_income        0\n",
       "purpose             0\n",
       "dtype: int64"
      ]
     },
     "execution_count": 12,
     "metadata": {},
     "output_type": "execute_result"
    }
   ],
   "source": [
    "# проверяем, что пропуски заполнены с помощью последовательного применения методов isna() и sum()\n",
    "data.isna().sum()"
   ]
  },
  {
   "cell_type": "markdown",
   "id": "d522e295",
   "metadata": {
    "deletable": false,
    "editable": false,
    "id": "d522e295"
   },
   "source": [
    "### Изменение типов данных"
   ]
  },
  {
   "cell_type": "markdown",
   "id": "c229c581",
   "metadata": {
    "deletable": false,
    "editable": false,
    "id": "c229c581"
   },
   "source": [
    "**Задание 13. Замените вещественный тип данных в столбце `total_income` на целочисленный с помощью метода `astype()`.**"
   ]
  },
  {
   "cell_type": "code",
   "execution_count": 13,
   "id": "31036462",
   "metadata": {
    "deletable": false,
    "id": "31036462"
   },
   "outputs": [],
   "source": [
    "# применяем метод astype(int) для указания целочисленного типа данных в столбце 'total_income'\n",
    "\n",
    "data['total_income'] = data['total_income'].astype(int)"
   ]
  },
  {
   "cell_type": "markdown",
   "id": "b8e3d1d9",
   "metadata": {
    "deletable": false,
    "editable": false,
    "id": "b8e3d1d9"
   },
   "source": [
    "### Обработка дубликатов"
   ]
  },
  {
   "cell_type": "markdown",
   "id": "9be53c49",
   "metadata": {
    "deletable": false,
    "editable": false,
    "id": "9be53c49"
   },
   "source": [
    "**Задание 14. Обработайте неявные дубликаты в столбце `education`. В этом столбце есть одни и те же значения, но записанные по-разному: с использованием заглавных и строчных букв. Приведите их к нижнему регистру.**"
   ]
  },
  {
   "cell_type": "code",
   "execution_count": 14,
   "id": "d89e73e1",
   "metadata": {
    "deletable": false,
    "id": "d89e73e1"
   },
   "outputs": [],
   "source": [
    "# заменим столбец 'education' исправленными значениями\n",
    "data['education'] = data['education'].str.lower()"
   ]
  },
  {
   "cell_type": "markdown",
   "id": "01d4500e",
   "metadata": {
    "deletable": false,
    "editable": false,
    "id": "01d4500e"
   },
   "source": [
    "**Задание 15. Выведите на экран количество строк-дубликатов в данных. Если такие строки присутствуют, удалите их.**"
   ]
  },
  {
   "cell_type": "code",
   "execution_count": 15,
   "id": "e10efb23",
   "metadata": {
    "deletable": false,
    "id": "e10efb23",
    "outputId": "9684deba-1934-42d1-99e1-cda61740f822"
   },
   "outputs": [
    {
     "data": {
      "text/plain": [
       "71"
      ]
     },
     "execution_count": 15,
     "metadata": {},
     "output_type": "execute_result"
    }
   ],
   "source": [
    "# считаем дубликаты\n",
    "data.duplicated().sum()"
   ]
  },
  {
   "cell_type": "code",
   "execution_count": 16,
   "id": "df853f20",
   "metadata": {
    "deletable": false,
    "id": "df853f20"
   },
   "outputs": [],
   "source": [
    "# удаляем дубликаты\n",
    "data = data.drop_duplicates()"
   ]
  },
  {
   "cell_type": "markdown",
   "id": "627be38f",
   "metadata": {
    "deletable": false,
    "editable": false,
    "id": "627be38f"
   },
   "source": [
    "### Категоризация данных"
   ]
  },
  {
   "cell_type": "markdown",
   "id": "4684c3e0",
   "metadata": {
    "deletable": false,
    "editable": false,
    "id": "4684c3e0"
   },
   "source": [
    "**Задание 16. На основании диапазонов, указанных ниже, создайте в датафрейме `data` столбец `total_income_category` с категориями:**\n",
    "\n",
    "- 0–30000 — `'E'`;\n",
    "- 30001–50000 — `'D'`;\n",
    "- 50001–200000 — `'C'`;\n",
    "- 200001–1000000 — `'B'`;\n",
    "- 1000001 и выше — `'A'`.\n",
    "\n",
    "\n",
    "**Например, кредитополучателю с доходом 25000 нужно назначить категорию `'E'`, а клиенту, получающему 235000, — `'B'`. Используйте собственную функцию с именем `categorize_income()` и метод `apply()`.**"
   ]
  },
  {
   "cell_type": "code",
   "execution_count": 17,
   "id": "78965238",
   "metadata": {
    "deletable": false,
    "id": "78965238"
   },
   "outputs": [],
   "source": [
    "# создаем функцию categorize_income() для категоризации заёмщиков в зависимости от уровня дохода\n",
    "def categorize_income(income):\n",
    "    \n",
    "    \"\"\"\n",
    "    Присваивает категорию в зависимости от уровня дохода (total_income), используя правила:\n",
    "    - 0–30000 — 'E';\n",
    "    - 30001–50000 — 'D';\n",
    "    - 50001–200000 — 'C';\n",
    "    - 200001–1000000 — 'B';\n",
    "    - 1000001 и выше — 'A'.\n",
    "    \"\"\"\n",
    "    \n",
    "    \n",
    "    try:\n",
    "        if 0 <= income <= 30000:\n",
    "            return 'E'\n",
    "        elif 30001 <= income <= 50000:\n",
    "            return 'D'\n",
    "        elif 50001 <= income <= 200000:\n",
    "            return 'C'\n",
    "        elif 200001 <= income <= 1000000:\n",
    "            return 'B'\n",
    "        elif income >= 1000001:\n",
    "            return 'A'\n",
    "    except:\n",
    "        pass"
   ]
  },
  {
   "cell_type": "code",
   "execution_count": 18,
   "id": "0980ada1",
   "metadata": {
    "deletable": false,
    "id": "0980ada1"
   },
   "outputs": [],
   "source": [
    "# применяем функцию методом apply()\n",
    "data['total_income_category'] = data['total_income'].apply(categorize_income)"
   ]
  },
  {
   "cell_type": "markdown",
   "id": "9917bba0",
   "metadata": {
    "deletable": false,
    "editable": false,
    "id": "9917bba0"
   },
   "source": [
    "**Задание 17. Выведите на экран перечень уникальных целей взятия кредита из столбца `purpose`.**"
   ]
  },
  {
   "cell_type": "code",
   "execution_count": 19,
   "id": "ee07b65e",
   "metadata": {
    "deletable": false,
    "id": "ee07b65e",
    "outputId": "673c12d9-7d7e-4ae0-9812-c622c89dd244"
   },
   "outputs": [
    {
     "data": {
      "text/plain": [
       "array(['покупка жилья', 'приобретение автомобиля',\n",
       "       'дополнительное образование', 'сыграть свадьбу',\n",
       "       'операции с жильем', 'образование', 'на проведение свадьбы',\n",
       "       'покупка жилья для семьи', 'покупка недвижимости',\n",
       "       'покупка коммерческой недвижимости', 'покупка жилой недвижимости',\n",
       "       'строительство собственной недвижимости', 'недвижимость',\n",
       "       'строительство недвижимости', 'на покупку подержанного автомобиля',\n",
       "       'на покупку своего автомобиля',\n",
       "       'операции с коммерческой недвижимостью',\n",
       "       'строительство жилой недвижимости', 'жилье',\n",
       "       'операции со своей недвижимостью', 'автомобили',\n",
       "       'заняться образованием', 'сделка с подержанным автомобилем',\n",
       "       'получение образования', 'автомобиль', 'свадьба',\n",
       "       'получение дополнительного образования', 'покупка своего жилья',\n",
       "       'операции с недвижимостью', 'получение высшего образования',\n",
       "       'свой автомобиль', 'сделка с автомобилем',\n",
       "       'профильное образование', 'высшее образование',\n",
       "       'покупка жилья для сдачи', 'на покупку автомобиля', 'ремонт жилью',\n",
       "       'заняться высшим образованием'], dtype=object)"
      ]
     },
     "execution_count": 19,
     "metadata": {},
     "output_type": "execute_result"
    }
   ],
   "source": [
    "# с помощью метода unique() выведем все значения столбца 'purpose' - с указанием целей кредитования\n",
    "data['purpose'].unique()"
   ]
  },
  {
   "cell_type": "markdown",
   "id": "52b79d56",
   "metadata": {
    "deletable": false,
    "editable": false,
    "id": "52b79d56"
   },
   "source": [
    "**Задание 18. Создайте функцию, которая на основании данных из столбца `purpose` сформирует новый столбец `purpose_category`, в который войдут следующие категории:**\n",
    "\n",
    "- `'операции с автомобилем'`,\n",
    "- `'операции с недвижимостью'`,\n",
    "- `'проведение свадьбы'`,\n",
    "- `'получение образования'`.\n",
    "\n",
    "**Например, если в столбце `purpose` находится подстрока `'на покупку автомобиля'`, то в столбце `purpose_category` должна появиться строка `'операции с автомобилем'`.**\n",
    "\n",
    "**Используйте собственную функцию с именем `categorize_purpose()` и метод `apply()`. Изучите данные в столбце `purpose` и определите, какие подстроки помогут вам правильно определить категорию.**"
   ]
  },
  {
   "cell_type": "code",
   "execution_count": 20,
   "id": "be41da5d",
   "metadata": {
    "deletable": false,
    "id": "be41da5d"
   },
   "outputs": [],
   "source": [
    "# создаём функцию categorize_purpose() для категоризации заёмщиков в зависимости от целей кредитования\n",
    "\n",
    "def categorize_purpose(row):\n",
    "    \n",
    "    \"\"\"\n",
    "    Присваивает категорию в зависимости от целей кредита, используя правила:\n",
    "    \n",
    "    - если строка содержит 'автом' присвоить категорию 'операции с автомобилем';\n",
    "    - если строка содержит 'жил' или 'недвиж' присвоить категорию 'операции с недвижимостью';\n",
    "    - если строка содержит 'свад' присвоить категорию 'проведение свадьбы';\n",
    "    - если строка содержит 'образов' присвоить категорию 'получение образования'\n",
    "    - во всех других случаях присвоить 'нет категории'\n",
    "    \"\"\"\n",
    "    \n",
    "    try:\n",
    "        if 'автом' in row:\n",
    "            return 'операции с автомобилем'\n",
    "        elif 'жил' in row or 'недвиж' in row:\n",
    "            return 'операции с недвижимостью'\n",
    "        elif 'свад' in row:\n",
    "            return 'проведение свадьбы'\n",
    "        elif 'образов' in row:\n",
    "            return 'получение образования'\n",
    "    except:\n",
    "        return 'нет категории'"
   ]
  },
  {
   "cell_type": "code",
   "execution_count": 21,
   "id": "94c4a19a",
   "metadata": {
    "deletable": false,
    "id": "94c4a19a"
   },
   "outputs": [],
   "source": [
    "# применяем функцию методом apply()\n",
    "data['purpose_category'] = data['purpose'].apply(categorize_purpose)"
   ]
  },
  {
   "cell_type": "markdown",
   "id": "aab4c26b",
   "metadata": {},
   "source": [
    "<div class=\"alert alert-success\">\n",
    "<b>Комментарий ревьюера - все отлично! ✅ </b>\n",
    "\n",
    "Да, авторское решение и вправду очень изящно! Давай посмотрим что получилось у тебя!\n",
    "</div>"
   ]
  },
  {
   "cell_type": "markdown",
   "id": "3d596c34",
   "metadata": {
    "deletable": false,
    "editable": false,
    "id": "3d596c34"
   },
   "source": [
    "### Шаг 3. Исследуйте данные и ответьте на вопросы"
   ]
  },
  {
   "cell_type": "markdown",
   "id": "648db036",
   "metadata": {
    "deletable": false,
    "editable": false,
    "id": "648db036"
   },
   "source": [
    "#### 3.1 Есть ли зависимость между количеством детей и возвратом кредита в срок?"
   ]
  },
  {
   "cell_type": "code",
   "execution_count": 22,
   "id": "7fcff25e",
   "metadata": {
    "deletable": false,
    "id": "7fcff25e"
   },
   "outputs": [
    {
     "data": {
      "text/html": [
       "<div>\n",
       "<style scoped>\n",
       "    .dataframe tbody tr th:only-of-type {\n",
       "        vertical-align: middle;\n",
       "    }\n",
       "\n",
       "    .dataframe tbody tr th {\n",
       "        vertical-align: top;\n",
       "    }\n",
       "\n",
       "    .dataframe thead th {\n",
       "        text-align: right;\n",
       "    }\n",
       "</style>\n",
       "<table border=\"1\" class=\"dataframe\">\n",
       "  <thead>\n",
       "    <tr style=\"text-align: right;\">\n",
       "      <th></th>\n",
       "      <th>mean</th>\n",
       "      <th>sum</th>\n",
       "    </tr>\n",
       "    <tr>\n",
       "      <th>children</th>\n",
       "      <th></th>\n",
       "      <th></th>\n",
       "    </tr>\n",
       "  </thead>\n",
       "  <tbody>\n",
       "    <tr>\n",
       "      <th>0</th>\n",
       "      <td>0.075438</td>\n",
       "      <td>1063.0</td>\n",
       "    </tr>\n",
       "    <tr>\n",
       "      <th>1</th>\n",
       "      <td>0.092346</td>\n",
       "      <td>444.0</td>\n",
       "    </tr>\n",
       "    <tr>\n",
       "      <th>2</th>\n",
       "      <td>0.094542</td>\n",
       "      <td>194.0</td>\n",
       "    </tr>\n",
       "    <tr>\n",
       "      <th>3</th>\n",
       "      <td>0.081818</td>\n",
       "      <td>27.0</td>\n",
       "    </tr>\n",
       "    <tr>\n",
       "      <th>4</th>\n",
       "      <td>0.097561</td>\n",
       "      <td>4.0</td>\n",
       "    </tr>\n",
       "    <tr>\n",
       "      <th>5</th>\n",
       "      <td>0.000000</td>\n",
       "      <td>0.0</td>\n",
       "    </tr>\n",
       "  </tbody>\n",
       "</table>\n",
       "</div>"
      ],
      "text/plain": [
       "              mean     sum\n",
       "children                  \n",
       "0         0.075438  1063.0\n",
       "1         0.092346   444.0\n",
       "2         0.094542   194.0\n",
       "3         0.081818    27.0\n",
       "4         0.097561     4.0\n",
       "5         0.000000     0.0"
      ]
     },
     "execution_count": 22,
     "metadata": {},
     "output_type": "execute_result"
    }
   ],
   "source": [
    "# Ваш код будет здесь. Вы можете создавать новые ячейки.\n",
    "\n",
    "'''\n",
    "Для ответа на вопрос сгруппируем данные таблицы по количеству детей.\n",
    "\n",
    "В таблице отразим данные по столбцу'debt' – \"имел ли задолженность по возврату кредитов\" с булевым типом данных. \n",
    "Добавим столбец-счётчик общего количества для расчёта доли должников в каждой из групп.\n",
    "\n",
    "Чем выше значение ячейки, тем больше задолженностей по кредиту у анализируемой категории заёмщиков.\n",
    "В столбце 'count' отразим данные счётчика.\n",
    "\n",
    "Сделаем выводы о количестве заёмщиков с задолженностями каждой из групп по количеству детей.\n",
    "'''\n",
    "\n",
    "data_pivot = data.pivot_table(index=['children'], values='debt', aggfunc={'mean', 'sum'}) # Это старый вариант кода\n",
    "data_pivot"
   ]
  },
  {
   "cell_type": "markdown",
   "id": "4ab404b4",
   "metadata": {},
   "source": [
    "<div class=\"alert alert-block alert-danger\">\n",
    "<b>Комментарий ревьюера - на доработку ❌</b>   \n",
    "\n",
    "Ты молодец! Твой код дает правильный результат и по нему можно делать выводы. Но наша задача научиться быстрым и эффективным алгоритмам обработки данных, поэтому давай их попробуем улучшить твой код:\n",
    "1. Давай посмотрим на данные. Все правильно: 'Всего должников' - это `sum`. 'Доля должников' -  `mean` (потому что у нас данные булевые данные поле `dept`). При этом можно добавить 'Всего кредитополучателей' - это `count`. Таким образом в `data.pivot_table` агрегация будет иметь вид `aggfunc=['count', 'sum', 'mean']`.\n",
    "\n",
    "2. Мы 4 раза выполняем один и тот же алгоритм. Поэтому давай попробуем сделать функцию (назови ее как тебе больше нравится, только не системными названиями) на вход которой принимается переменная категория (например, `variable`). В `pivot_table` присвой `index=variable`. То есть мы будем в сводную таблицу передавать разные переменные и она будет строить нам разные сводные таблицы.\n",
    "\n",
    "3. При создании сводных таблиц получаются странные названия заголовков. Они на разных уровнях и в несколько строк иногда. Это называется мультииндексом и это особенность нашей програмной среды. Чтобы в дальнейшем работать с полученной таблицей (не в этом задании, но все же), обращаться к данным через названия столбцов необходимо в этой задаче просто переименовать полученные данные таким кодом `data.columns =` с значениями `['all_credits', 'all_debtors','share_debtors']` или (на будущее) выполнить такой код `data.columns = ['_'.join(col).strip() for col in temp.columns.values]`. Более подробно [тут](https://stackoverflow.com/questions/14507794/pandas-how-to-flatten-a-hierarchical-index-in-columns)\n",
    "    \n",
    "4. Внутри твоей функции три строки - первая это твой новый код со сводной таблицей из пункта 1 выше. Вторая - это переименование колонок тоже из твоего нового кода пункта 3, что был выше. Третья - вызов функции `display()` с переменной в скобках того имени, которое ты присваиваешь в первом пункте. Возвращать (то есть писать `return`) в конце функции не надо. Мы передаем в функцию переменную столбца датасета, а она нам рассчитывает и выводит на экран нужные данные.\n",
    "    \n",
    "5. А чтобы запустить твою функцию в следующей пустой ячейке напиши имя своей функции и в скобках передай ей аргумент имени колонки датасета `data` (это будет `'children'` или `'family_status'` и так далее.\n",
    "    \n",
    "Попробуй это сделать в новых ячейках чтобы сравнить полученные данные\n",
    " \n",
    "</div>"
   ]
  },
  {
   "cell_type": "code",
   "execution_count": 23,
   "id": "2da28cc8",
   "metadata": {},
   "outputs": [
    {
     "data": {
      "text/html": [
       "<div>\n",
       "<style scoped>\n",
       "    .dataframe tbody tr th:only-of-type {\n",
       "        vertical-align: middle;\n",
       "    }\n",
       "\n",
       "    .dataframe tbody tr th {\n",
       "        vertical-align: top;\n",
       "    }\n",
       "\n",
       "    .dataframe thead th {\n",
       "        text-align: right;\n",
       "    }\n",
       "</style>\n",
       "<table border=\"1\" class=\"dataframe\">\n",
       "  <thead>\n",
       "    <tr style=\"text-align: right;\">\n",
       "      <th></th>\n",
       "      <th>all_credits</th>\n",
       "      <th>all_debtors</th>\n",
       "      <th>share_debtors</th>\n",
       "    </tr>\n",
       "    <tr>\n",
       "      <th>children</th>\n",
       "      <th></th>\n",
       "      <th></th>\n",
       "      <th></th>\n",
       "    </tr>\n",
       "  </thead>\n",
       "  <tbody>\n",
       "    <tr>\n",
       "      <th>0</th>\n",
       "      <td>14091</td>\n",
       "      <td>1063</td>\n",
       "      <td>0.075438</td>\n",
       "    </tr>\n",
       "    <tr>\n",
       "      <th>1</th>\n",
       "      <td>4808</td>\n",
       "      <td>444</td>\n",
       "      <td>0.092346</td>\n",
       "    </tr>\n",
       "    <tr>\n",
       "      <th>2</th>\n",
       "      <td>2052</td>\n",
       "      <td>194</td>\n",
       "      <td>0.094542</td>\n",
       "    </tr>\n",
       "    <tr>\n",
       "      <th>3</th>\n",
       "      <td>330</td>\n",
       "      <td>27</td>\n",
       "      <td>0.081818</td>\n",
       "    </tr>\n",
       "    <tr>\n",
       "      <th>4</th>\n",
       "      <td>41</td>\n",
       "      <td>4</td>\n",
       "      <td>0.097561</td>\n",
       "    </tr>\n",
       "    <tr>\n",
       "      <th>5</th>\n",
       "      <td>9</td>\n",
       "      <td>0</td>\n",
       "      <td>0.000000</td>\n",
       "    </tr>\n",
       "  </tbody>\n",
       "</table>\n",
       "</div>"
      ],
      "text/plain": [
       "          all_credits  all_debtors  share_debtors\n",
       "children                                         \n",
       "0               14091         1063       0.075438\n",
       "1                4808          444       0.092346\n",
       "2                2052          194       0.094542\n",
       "3                 330           27       0.081818\n",
       "4                  41            4       0.097561\n",
       "5                   9            0       0.000000"
      ]
     },
     "metadata": {},
     "output_type": "display_data"
    }
   ],
   "source": [
    "# НОВЫЙ КОД - взамен предыдущего решения задания 19\n",
    "\n",
    "# Создаю функцию 'display_pivot_table' для вывода сводной таблицы по любой из категорий датафрейма\n",
    "\n",
    "def display_pivot_table(column_name):\n",
    "    \n",
    "    '''\n",
    "    Функция формирует и выводит сводную таблицу по одному из сегментов (столбцов данных), в которой отражает \n",
    "    количество заёмщиков, долю и количество должников для каждого из сегментов \n",
    "    \n",
    "    '''\n",
    "        \n",
    "    pivot_table = data.pivot_table(index=[column_name], values='debt', aggfunc=['count', 'sum', 'mean'])\n",
    "    pivot_table.columns = ['all_credits', 'all_debtors', 'share_debtors']\n",
    "    display(pivot_table)\n",
    "    \n",
    "display_pivot_table('children')"
   ]
  },
  {
   "cell_type": "markdown",
   "id": "c5da006a",
   "metadata": {},
   "source": [
    "<div style=\"border:solid blue 3px; padding: 20px\">\n",
    "\n",
    "    Отмечу, что добавление общего количества заёмщиков в сводную таблицу действительно упрощает формирование выводов.   \n",
    "Спасибо 🙂"
   ]
  },
  {
   "cell_type": "markdown",
   "id": "3aad4c95",
   "metadata": {},
   "source": [
    "<div class=\"alert alert-success\">\n",
    "<b>Комментарий 3 ревьюера - все отлично! ✅ </b>\n",
    "\n",
    "Супер! Ты большущая молодец! И сводная таблица и функция удались 🤗\n",
    "\n",
    "</div>"
   ]
  },
  {
   "cell_type": "markdown",
   "id": "2eb9088e",
   "metadata": {
    "deletable": false,
    "id": "2eb9088e"
   },
   "source": [
    "**Вывод:** Из сводной таблицы видно, что лидеры по наличию задолженностей по возврату кредитов — заёмщики без детей:\n",
    "- у заёмщиков без детей – 1 063;  \n",
    "- среди родителей 1 ребёнка 444 должника; \n",
    "- 2 детей — 194 должника; \n",
    "- 3 детей – 27 должников; \n",
    "- 4 детей – 4 должника; \n",
    "- в категории родителей 5-ти детей должников нет.\n",
    "\n",
    "Однако, для корректной оценки следует учитывать долю заёмщиков с задолженностями в каждой категории:\n",
    "- у заёмщиков без детей – 0,075438 (~8%);  \n",
    "- среди родителей 1 ребёнка – 0,092346 (~9%); \n",
    "- 2 детей — 0,094542 (~9%); \n",
    "- 3 детей – 0,081818 (~8%); \n",
    "- 4 детей – 0,097561 (~10%); \n",
    "- в категории родителей 5-ти детей должников нет, однако общее количество таких заёмщиков составляет всего 9 человек.\n",
    "\n",
    "Как видно из данных отклонения среди категорией с самым большим количеством должников и самым маленьким - 2%. Из этого можно сделать вывод, что наличие детей не влияет на вероятность возврата кредита в срок. Значения долей заёмщиков с задолженностью по кредитам в каждой из категорий незначительно отличаются в относительном выражении к заёмщикам без задолженностей."
   ]
  },
  {
   "cell_type": "markdown",
   "id": "0739ab44",
   "metadata": {},
   "source": [
    "<div class=\"alert alert-success\">\n",
    "<b>Комментарий ревьюера - все отлично! ✅ </b>\n",
    "\n",
    "Прекрасный вывод. А что можно сказать про сравнение группы с детьми и группы бездетные?\n",
    "</div>"
   ]
  },
  {
   "cell_type": "markdown",
   "id": "974e1ded",
   "metadata": {},
   "source": [
    "<div style=\"border:solid blue 3px; padding: 20px\">\n",
    "    При сравнении групп без детей с родителями можно отметить более существенное отклонение – у заёмщиков без детей самая низкая доля должников - 0,075438; а максимальное количество должников среди родителей 4 детей – 0,097561. \n",
    "    При этом показатель группы родителей с 5-ю детьми можно не учитывать из-за маленького количества заёмщиков в выборке (9)"
   ]
  },
  {
   "cell_type": "markdown",
   "id": "e3c0b241",
   "metadata": {},
   "source": [
    "<div class=\"alert alert-success\">\n",
    "<b>Комментарий 3 ревьюера - все отлично! ✅ </b>\n",
    "\n",
    "Отлично, полностью согласен!\n",
    "</div>"
   ]
  },
  {
   "cell_type": "markdown",
   "id": "74c9b3a7",
   "metadata": {
    "deletable": false,
    "editable": false,
    "id": "74c9b3a7"
   },
   "source": [
    "#### 3.2 Есть ли зависимость между семейным положением и возвратом кредита в срок?"
   ]
  },
  {
   "cell_type": "code",
   "execution_count": 24,
   "id": "8098ab3b",
   "metadata": {
    "deletable": false,
    "id": "8098ab3b"
   },
   "outputs": [
    {
     "data": {
      "text/html": [
       "<div>\n",
       "<style scoped>\n",
       "    .dataframe tbody tr th:only-of-type {\n",
       "        vertical-align: middle;\n",
       "    }\n",
       "\n",
       "    .dataframe tbody tr th {\n",
       "        vertical-align: top;\n",
       "    }\n",
       "\n",
       "    .dataframe thead th {\n",
       "        text-align: right;\n",
       "    }\n",
       "</style>\n",
       "<table border=\"1\" class=\"dataframe\">\n",
       "  <thead>\n",
       "    <tr style=\"text-align: right;\">\n",
       "      <th></th>\n",
       "      <th>mean</th>\n",
       "      <th>sum</th>\n",
       "    </tr>\n",
       "    <tr>\n",
       "      <th>family_status_id</th>\n",
       "      <th></th>\n",
       "      <th></th>\n",
       "    </tr>\n",
       "  </thead>\n",
       "  <tbody>\n",
       "    <tr>\n",
       "      <th>0</th>\n",
       "      <td>0.075606</td>\n",
       "      <td>927.0</td>\n",
       "    </tr>\n",
       "    <tr>\n",
       "      <th>1</th>\n",
       "      <td>0.093130</td>\n",
       "      <td>385.0</td>\n",
       "    </tr>\n",
       "    <tr>\n",
       "      <th>2</th>\n",
       "      <td>0.066246</td>\n",
       "      <td>63.0</td>\n",
       "    </tr>\n",
       "    <tr>\n",
       "      <th>3</th>\n",
       "      <td>0.070648</td>\n",
       "      <td>84.0</td>\n",
       "    </tr>\n",
       "    <tr>\n",
       "      <th>4</th>\n",
       "      <td>0.097639</td>\n",
       "      <td>273.0</td>\n",
       "    </tr>\n",
       "  </tbody>\n",
       "</table>\n",
       "</div>"
      ],
      "text/plain": [
       "                      mean    sum\n",
       "family_status_id                 \n",
       "0                 0.075606  927.0\n",
       "1                 0.093130  385.0\n",
       "2                 0.066246   63.0\n",
       "3                 0.070648   84.0\n",
       "4                 0.097639  273.0"
      ]
     },
     "execution_count": 24,
     "metadata": {},
     "output_type": "execute_result"
    }
   ],
   "source": [
    "# Это СТАРЫЙ КОД\n",
    "# Ваш код будет здесь. Вы можете создавать новые ячейки.\n",
    "\n",
    "\n",
    "'''\n",
    "Для ответа на вопрос сгруппируем данные таблицы по семейному положению family_status_id:\n",
    "    0 - женат/замужем\n",
    "    1 - гражданский брак\n",
    "    2 - вдовец / вдова\n",
    "    3 - в разводе \n",
    "    4 - Не женат / не замужем\n",
    "\n",
    "В таблице отразим данные по столбцу'debt' – \"имел ли задолженность по возврату кредитов\" с булевым типом данных. \n",
    "\n",
    "Чем выше значение ячейки, тем больше задолженностей по кредиту у анализируемой категории заёмщиков.\n",
    "В столбце 'count' отразим данные счётчика.\n",
    "\n",
    "Сделаем выводы о количестве заёмщиков с задолженностями каждой из групп по семейному положению.\n",
    "'''\n",
    "data_pivot = data.pivot_table(index=['family_status_id'], values='debt', aggfunc={'mean', 'sum'})\n",
    "\n",
    "data_pivot"
   ]
  },
  {
   "cell_type": "markdown",
   "id": "e945480c",
   "metadata": {},
   "source": [
    "<div class=\"alert alert-block alert-danger\">\n",
    "<b>Комментарий ревьюера - на доработку ❌</b>   \n",
    "\n",
    "Здесь просто давай вызовем функцию, о которой я писал выше, и получим нужный результат\n",
    "    \n",
    "</div>"
   ]
  },
  {
   "cell_type": "markdown",
   "id": "6558982b",
   "metadata": {},
   "source": [
    "<div style=\"border:solid blue 3px; padding: 20px\">  \n",
    "Ниже вызываю функцию для столбца с id семейного положения"
   ]
  },
  {
   "cell_type": "code",
   "execution_count": 25,
   "id": "aaac4d62",
   "metadata": {},
   "outputs": [
    {
     "data": {
      "text/html": [
       "<div>\n",
       "<style scoped>\n",
       "    .dataframe tbody tr th:only-of-type {\n",
       "        vertical-align: middle;\n",
       "    }\n",
       "\n",
       "    .dataframe tbody tr th {\n",
       "        vertical-align: top;\n",
       "    }\n",
       "\n",
       "    .dataframe thead th {\n",
       "        text-align: right;\n",
       "    }\n",
       "</style>\n",
       "<table border=\"1\" class=\"dataframe\">\n",
       "  <thead>\n",
       "    <tr style=\"text-align: right;\">\n",
       "      <th></th>\n",
       "      <th>all_credits</th>\n",
       "      <th>all_debtors</th>\n",
       "      <th>share_debtors</th>\n",
       "    </tr>\n",
       "    <tr>\n",
       "      <th>family_status_id</th>\n",
       "      <th></th>\n",
       "      <th></th>\n",
       "      <th></th>\n",
       "    </tr>\n",
       "  </thead>\n",
       "  <tbody>\n",
       "    <tr>\n",
       "      <th>0</th>\n",
       "      <td>12261</td>\n",
       "      <td>927</td>\n",
       "      <td>0.075606</td>\n",
       "    </tr>\n",
       "    <tr>\n",
       "      <th>1</th>\n",
       "      <td>4134</td>\n",
       "      <td>385</td>\n",
       "      <td>0.093130</td>\n",
       "    </tr>\n",
       "    <tr>\n",
       "      <th>2</th>\n",
       "      <td>951</td>\n",
       "      <td>63</td>\n",
       "      <td>0.066246</td>\n",
       "    </tr>\n",
       "    <tr>\n",
       "      <th>3</th>\n",
       "      <td>1189</td>\n",
       "      <td>84</td>\n",
       "      <td>0.070648</td>\n",
       "    </tr>\n",
       "    <tr>\n",
       "      <th>4</th>\n",
       "      <td>2796</td>\n",
       "      <td>273</td>\n",
       "      <td>0.097639</td>\n",
       "    </tr>\n",
       "  </tbody>\n",
       "</table>\n",
       "</div>"
      ],
      "text/plain": [
       "                  all_credits  all_debtors  share_debtors\n",
       "family_status_id                                         \n",
       "0                       12261          927       0.075606\n",
       "1                        4134          385       0.093130\n",
       "2                         951           63       0.066246\n",
       "3                        1189           84       0.070648\n",
       "4                        2796          273       0.097639"
      ]
     },
     "metadata": {},
     "output_type": "display_data"
    }
   ],
   "source": [
    "# Применяем функцию вывода сводной таблицы к столбцу с id семейного положения\n",
    "'''\n",
    "соответствие семейного положения family_status_id:\n",
    "    0 - женат/замужем\n",
    "    1 - гражданский брак\n",
    "    2 - вдовец / вдова\n",
    "    3 - в разводе \n",
    "    4 - Не женат / не замужем\n",
    "\n",
    "'''\n",
    "display_pivot_table('family_status_id')"
   ]
  },
  {
   "cell_type": "markdown",
   "id": "ca08f51a",
   "metadata": {},
   "source": [
    "<div class=\"alert alert-success\">\n",
    "<b>Комментарий 3 ревьюера - все отлично! ✅ </b>\n",
    "\n",
    "Да, это именно то, что требуется!\n",
    "</div>"
   ]
  },
  {
   "cell_type": "markdown",
   "id": "cce078c1",
   "metadata": {
    "deletable": false,
    "id": "c389ca63"
   },
   "source": [
    "**Вывод:**\n",
    "Лидеры по абсолютному количеству заёмщиков с задолженностями по возврату кредитов — заёмщики, состоящие в браке. Количество заёмщиков с задолженностю составило:\n",
    "- у заёмщиков остоящих в браке – 927; \n",
    "- среди пар состоящих в гражданском браке 385 должников; \n",
    "- среди неженатых / незамужних — 273 должника; \n",
    "- самое меньшее количество должников среди разведенных и вдовых — 84 и 63 соответственно.\n",
    "\n",
    "Однако, при расчёте относительных показателей к общему числу заёмщиков каждой категории:\n",
    "\n",
    "- у заёмщиков состоящих в браке – 0,075606 (~8%); \n",
    "- среди пар состоящих в гражданском браке 0.093130 (~9%); \n",
    "- среди неженатых / незамужних — 0.097639 (~9%); \n",
    "- среди разведенных – 0.070648 (~7%)\n",
    "- среди вдовых — 0.066246 (~7%).\n",
    "\n",
    "Как видно из относительных данных разница в доле должников каждой из категорий не более 2%. Из этого можно сделать вывод, что семейное положение не влияет на вероятность возврата кредита в срок. Значения долей заёмщиков с задолженностью по кредитам в каждой из категорий незначительно отличаются в относительном выражении к заёмщикам без задолженностей."
   ]
  },
  {
   "cell_type": "markdown",
   "id": "fca31f41",
   "metadata": {},
   "source": [
    "<div class=\"alert alert-warning\">\n",
    "<b>Комментарий ревьюера - замечания и рекомендации ⚠️</b>\n",
    "\n",
    "Спасибо за подробное описание данных! А что можно сказать про сравнение двух групп - состоящие и не состоящие в официальном браке?\n",
    "</div>"
   ]
  },
  {
   "cell_type": "markdown",
   "id": "c81b6844",
   "metadata": {},
   "source": [
    "<div style=\"border:solid blue 3px; padding: 20px\">  \n",
    "    \n",
    "- у заёмщиков состоящих в браке – 0,075606 (~8%);\n",
    "- среди пар состоящих в гражданском браке 0.093130 (~9%)\n",
    "    \n",
    "Отклонение между этими группами составляет 0,017524 (23% от состоящих в браке). Если сравнивать доли отклонений % между категориями, то мы можем присвоить более высокий рейтинг парам, состоящим в официальном браке по сравнении с состоящими в гражданском."
   ]
  },
  {
   "cell_type": "markdown",
   "id": "153071cd",
   "metadata": {},
   "source": [
    "<div class=\"alert alert-success\">\n",
    "<b>Комментарий 3 ревьюера - все отлично! ✅ </b>\n",
    "\n",
    "Отличные выводы, так держать!\n",
    "</div>"
   ]
  },
  {
   "cell_type": "markdown",
   "id": "9529de68",
   "metadata": {
    "deletable": false,
    "editable": false,
    "id": "9529de68"
   },
   "source": [
    "#### 3.3 Есть ли зависимость между уровнем дохода и возвратом кредита в срок?"
   ]
  },
  {
   "cell_type": "code",
   "execution_count": 26,
   "id": "8787f44a",
   "metadata": {
    "deletable": false,
    "id": "8787f44a"
   },
   "outputs": [
    {
     "data": {
      "text/html": [
       "<div>\n",
       "<style scoped>\n",
       "    .dataframe tbody tr th:only-of-type {\n",
       "        vertical-align: middle;\n",
       "    }\n",
       "\n",
       "    .dataframe tbody tr th {\n",
       "        vertical-align: top;\n",
       "    }\n",
       "\n",
       "    .dataframe thead th {\n",
       "        text-align: right;\n",
       "    }\n",
       "</style>\n",
       "<table border=\"1\" class=\"dataframe\">\n",
       "  <thead>\n",
       "    <tr style=\"text-align: right;\">\n",
       "      <th></th>\n",
       "      <th>mean</th>\n",
       "      <th>sum</th>\n",
       "    </tr>\n",
       "    <tr>\n",
       "      <th>total_income_category</th>\n",
       "      <th></th>\n",
       "      <th></th>\n",
       "    </tr>\n",
       "  </thead>\n",
       "  <tbody>\n",
       "    <tr>\n",
       "      <th>A</th>\n",
       "      <td>0.080000</td>\n",
       "      <td>2.0</td>\n",
       "    </tr>\n",
       "    <tr>\n",
       "      <th>B</th>\n",
       "      <td>0.070602</td>\n",
       "      <td>354.0</td>\n",
       "    </tr>\n",
       "    <tr>\n",
       "      <th>C</th>\n",
       "      <td>0.084982</td>\n",
       "      <td>1353.0</td>\n",
       "    </tr>\n",
       "    <tr>\n",
       "      <th>D</th>\n",
       "      <td>0.060172</td>\n",
       "      <td>21.0</td>\n",
       "    </tr>\n",
       "    <tr>\n",
       "      <th>E</th>\n",
       "      <td>0.090909</td>\n",
       "      <td>2.0</td>\n",
       "    </tr>\n",
       "  </tbody>\n",
       "</table>\n",
       "</div>"
      ],
      "text/plain": [
       "                           mean     sum\n",
       "total_income_category                  \n",
       "A                      0.080000     2.0\n",
       "B                      0.070602   354.0\n",
       "C                      0.084982  1353.0\n",
       "D                      0.060172    21.0\n",
       "E                      0.090909     2.0"
      ]
     },
     "execution_count": 26,
     "metadata": {},
     "output_type": "execute_result"
    }
   ],
   "source": [
    "# Ваш код будет здесь. Вы можете создавать новые ячейки.\n",
    "\n",
    "'''\n",
    "Для ответа на вопрос сгруппируем данные таблицы по категории уровня дохода 'total_income_category':\n",
    "    - 0–30 000 — 'E';\n",
    "    - 30 001–50 000 — 'D';\n",
    "    - 50 001–200 000 — 'C';\n",
    "    - 200 001–1 000 000 — 'B';\n",
    "    - 1 000 001 и выше — 'A'.\n",
    "\n",
    "В таблице отразим данные по столбцу'debt' – \"имел ли задолженность по возврату кредитов\" с булевым типом данных. \n",
    "\n",
    "Чем выше значение ячейки, тем больше задолженностей по кредиту у анализируемой категории заёмщиков.\n",
    "В столбце 'count' отразим данные счётчика.\n",
    "\n",
    "Сделаем выводы о количестве заёмщиков с задолженностями каждой из групп по уровню дохода.\n",
    "'''\n",
    "\n",
    "data_pivot = data.pivot_table(index=['total_income_category'], values='debt', aggfunc={'mean', 'sum'})\n",
    "\n",
    "data_pivot"
   ]
  },
  {
   "cell_type": "markdown",
   "id": "6a2d6752",
   "metadata": {},
   "source": [
    "<div class=\"alert alert-block alert-danger\">\n",
    "<b>Комментарий ревьюера - на доработку ❌</b>   \n",
    "\n",
    "Да и тут тоже интересно, просто жду вывов той функции, о которой я писал выше\n",
    "\n",
    "</div>"
   ]
  },
  {
   "cell_type": "code",
   "execution_count": 27,
   "id": "b10908e7",
   "metadata": {},
   "outputs": [
    {
     "data": {
      "text/html": [
       "<div>\n",
       "<style scoped>\n",
       "    .dataframe tbody tr th:only-of-type {\n",
       "        vertical-align: middle;\n",
       "    }\n",
       "\n",
       "    .dataframe tbody tr th {\n",
       "        vertical-align: top;\n",
       "    }\n",
       "\n",
       "    .dataframe thead th {\n",
       "        text-align: right;\n",
       "    }\n",
       "</style>\n",
       "<table border=\"1\" class=\"dataframe\">\n",
       "  <thead>\n",
       "    <tr style=\"text-align: right;\">\n",
       "      <th></th>\n",
       "      <th>all_credits</th>\n",
       "      <th>all_debtors</th>\n",
       "      <th>share_debtors</th>\n",
       "    </tr>\n",
       "    <tr>\n",
       "      <th>total_income_category</th>\n",
       "      <th></th>\n",
       "      <th></th>\n",
       "      <th></th>\n",
       "    </tr>\n",
       "  </thead>\n",
       "  <tbody>\n",
       "    <tr>\n",
       "      <th>A</th>\n",
       "      <td>25</td>\n",
       "      <td>2</td>\n",
       "      <td>0.080000</td>\n",
       "    </tr>\n",
       "    <tr>\n",
       "      <th>B</th>\n",
       "      <td>5014</td>\n",
       "      <td>354</td>\n",
       "      <td>0.070602</td>\n",
       "    </tr>\n",
       "    <tr>\n",
       "      <th>C</th>\n",
       "      <td>15921</td>\n",
       "      <td>1353</td>\n",
       "      <td>0.084982</td>\n",
       "    </tr>\n",
       "    <tr>\n",
       "      <th>D</th>\n",
       "      <td>349</td>\n",
       "      <td>21</td>\n",
       "      <td>0.060172</td>\n",
       "    </tr>\n",
       "    <tr>\n",
       "      <th>E</th>\n",
       "      <td>22</td>\n",
       "      <td>2</td>\n",
       "      <td>0.090909</td>\n",
       "    </tr>\n",
       "  </tbody>\n",
       "</table>\n",
       "</div>"
      ],
      "text/plain": [
       "                       all_credits  all_debtors  share_debtors\n",
       "total_income_category                                         \n",
       "A                               25            2       0.080000\n",
       "B                             5014          354       0.070602\n",
       "C                            15921         1353       0.084982\n",
       "D                              349           21       0.060172\n",
       "E                               22            2       0.090909"
      ]
     },
     "metadata": {},
     "output_type": "display_data"
    }
   ],
   "source": [
    "# Применяем функцию вывода сводной таблицы к столбцу категорий уровня доходов\n",
    "display_pivot_table('total_income_category')"
   ]
  },
  {
   "cell_type": "markdown",
   "id": "bbb77142",
   "metadata": {},
   "source": [
    "<div style=\"border:solid blue 3px; padding: 20px\">  \n",
    "    \n",
    "Добавление столбца с общим количеством заёмщиков \"подсвечаивает\" вес каждой из категорий.\n",
    "\n",
    "Для построения системы рейтингов вряд ли можно учитывать категории \"А\" и \"Е\"\n",
    "из-за небольшого количества заёмщиков в этих выборках.\n"
   ]
  },
  {
   "cell_type": "markdown",
   "id": "f5bc6ee7",
   "metadata": {},
   "source": [
    "<div class=\"alert alert-success\">\n",
    "<b>Комментарий 3 ревьюера - все отлично! ✅ </b>\n",
    "\n",
    "Супер!\n",
    "</div>"
   ]
  },
  {
   "cell_type": "markdown",
   "id": "6dd14b57",
   "metadata": {
    "deletable": false,
    "id": "6dd14b57"
   },
   "source": [
    "**Вывод:**  Заёмщики со средним доходом (50 001 - 200 000 руб.) ячейка 'C' — лидеры по количеству должников (1 353). \n",
    "Значительно меньше (более чем в три раза) просроченных долгов среди заёмщиков с уровнем дохода от 200 000 до 1 000 000 руб. — 354, почти в 17 раз меньше просроченных долгов у заёмщиков с доходами ниже среднего – 21.\n",
    "В группах с самыми низкими и самыми высокими доходами по 2 заёмщика имели задолженности по кредитам.\n",
    "\n",
    "Сравним доли должников в каждой из категорий:\n",
    "- А: 0,080 (8%)\n",
    "- В: 0,070602 (~7%)\n",
    "- С: 0.084982 (~8%)\n",
    "- D: 0.060172 (~6%)\n",
    "- E: 0.090909 (~9%)\n",
    "\n",
    "Как видно из относительных данных разница в доле должников каждой из категорий не более 3%. Из этого можно сделать вывод, что уровень дохода не влияет на вероятность возврата кредита в срок. Значения долей заёмщиков с задолженностью по кредитам в каждой из категорий незначительно отличаются в относительном выражении к заёмщикам без задолженностей."
   ]
  },
  {
   "cell_type": "markdown",
   "id": "98648d5c",
   "metadata": {},
   "source": [
    "<div class=\"alert alert-success\">\n",
    "<b>Комментарий ревьюера - все отлично! ✅ </b>\n",
    "\n",
    "В целом хорошо. Но не со всем соглашусь. Различия все же есть, пусть и не очень большие. Но не для всех. Всегда стоит смотреть на количество записей в группах, чтобы не случилось ситуации, в которой будут делаться выводы на малом количестве данных (категория Е)\n",
    "</div>"
   ]
  },
  {
   "cell_type": "markdown",
   "id": "1dcc9b12",
   "metadata": {
    "deletable": false,
    "editable": false,
    "id": "1dcc9b12"
   },
   "source": [
    "#### 3.4 Как разные цели кредита влияют на его возврат в срок?"
   ]
  },
  {
   "cell_type": "code",
   "execution_count": 28,
   "id": "c602bc8b",
   "metadata": {
    "deletable": false,
    "id": "c602bc8b"
   },
   "outputs": [
    {
     "data": {
      "text/html": [
       "<div>\n",
       "<style scoped>\n",
       "    .dataframe tbody tr th:only-of-type {\n",
       "        vertical-align: middle;\n",
       "    }\n",
       "\n",
       "    .dataframe tbody tr th {\n",
       "        vertical-align: top;\n",
       "    }\n",
       "\n",
       "    .dataframe thead th {\n",
       "        text-align: right;\n",
       "    }\n",
       "</style>\n",
       "<table border=\"1\" class=\"dataframe\">\n",
       "  <thead>\n",
       "    <tr style=\"text-align: right;\">\n",
       "      <th></th>\n",
       "      <th>mean</th>\n",
       "      <th>sum</th>\n",
       "    </tr>\n",
       "    <tr>\n",
       "      <th>purpose_category</th>\n",
       "      <th></th>\n",
       "      <th></th>\n",
       "    </tr>\n",
       "  </thead>\n",
       "  <tbody>\n",
       "    <tr>\n",
       "      <th>операции с автомобилем</th>\n",
       "      <td>0.093480</td>\n",
       "      <td>400.0</td>\n",
       "    </tr>\n",
       "    <tr>\n",
       "      <th>операции с недвижимостью</th>\n",
       "      <td>0.072551</td>\n",
       "      <td>780.0</td>\n",
       "    </tr>\n",
       "    <tr>\n",
       "      <th>получение образования</th>\n",
       "      <td>0.092528</td>\n",
       "      <td>369.0</td>\n",
       "    </tr>\n",
       "    <tr>\n",
       "      <th>проведение свадьбы</th>\n",
       "      <td>0.079118</td>\n",
       "      <td>183.0</td>\n",
       "    </tr>\n",
       "  </tbody>\n",
       "</table>\n",
       "</div>"
      ],
      "text/plain": [
       "                              mean    sum\n",
       "purpose_category                         \n",
       "операции с автомобилем    0.093480  400.0\n",
       "операции с недвижимостью  0.072551  780.0\n",
       "получение образования     0.092528  369.0\n",
       "проведение свадьбы        0.079118  183.0"
      ]
     },
     "execution_count": 28,
     "metadata": {},
     "output_type": "execute_result"
    }
   ],
   "source": [
    "# Ваш код будет здесь. Вы можете создавать новые ячейки.\n",
    "\n",
    "'''\n",
    "Для ответа на вопрос сгруппируем данные таблицы в зависимости от цели получения кредита 'purpose_category':\n",
    "    - 'операции с автомобилем',\n",
    "    - 'операции с недвижимостью',\n",
    "    - 'проведение свадьбы',\n",
    "    - 'получение образования'.\n",
    "\n",
    "В таблице отразим данные по столбцу'debt' – \"имел ли задолженность по возврату кредитов\" с булевым типом данных. \n",
    "\n",
    "Чем выше значение ячейки, тем больше задолженностей по кредиту у анализируемой категории заёмщиков.\n",
    "В столбце 'count' отразим данные счётчика.\n",
    "\n",
    "Сделаем выводы о количестве заёмщиков с задолженностями каждой из групп по уровню дохода.\n",
    "'''\n",
    "\n",
    "data_pivot = data.pivot_table(index=['purpose_category'], values='debt', aggfunc={'mean', 'sum'})\n",
    "\n",
    "data_pivot"
   ]
  },
  {
   "cell_type": "markdown",
   "id": "75acb878",
   "metadata": {},
   "source": [
    "<div class=\"alert alert-block alert-danger\">\n",
    "<b>Комментарий ревьюера - на доработку ❌</b>   \n",
    "\n",
    "А здесь тоже хорошо, но давай вызовем функцию, о которой я писал выше\n",
    "\n",
    "</div>"
   ]
  },
  {
   "cell_type": "code",
   "execution_count": 29,
   "id": "34e79771",
   "metadata": {},
   "outputs": [
    {
     "data": {
      "text/html": [
       "<div>\n",
       "<style scoped>\n",
       "    .dataframe tbody tr th:only-of-type {\n",
       "        vertical-align: middle;\n",
       "    }\n",
       "\n",
       "    .dataframe tbody tr th {\n",
       "        vertical-align: top;\n",
       "    }\n",
       "\n",
       "    .dataframe thead th {\n",
       "        text-align: right;\n",
       "    }\n",
       "</style>\n",
       "<table border=\"1\" class=\"dataframe\">\n",
       "  <thead>\n",
       "    <tr style=\"text-align: right;\">\n",
       "      <th></th>\n",
       "      <th>all_credits</th>\n",
       "      <th>all_debtors</th>\n",
       "      <th>share_debtors</th>\n",
       "    </tr>\n",
       "    <tr>\n",
       "      <th>purpose_category</th>\n",
       "      <th></th>\n",
       "      <th></th>\n",
       "      <th></th>\n",
       "    </tr>\n",
       "  </thead>\n",
       "  <tbody>\n",
       "    <tr>\n",
       "      <th>операции с автомобилем</th>\n",
       "      <td>4279</td>\n",
       "      <td>400</td>\n",
       "      <td>0.093480</td>\n",
       "    </tr>\n",
       "    <tr>\n",
       "      <th>операции с недвижимостью</th>\n",
       "      <td>10751</td>\n",
       "      <td>780</td>\n",
       "      <td>0.072551</td>\n",
       "    </tr>\n",
       "    <tr>\n",
       "      <th>получение образования</th>\n",
       "      <td>3988</td>\n",
       "      <td>369</td>\n",
       "      <td>0.092528</td>\n",
       "    </tr>\n",
       "    <tr>\n",
       "      <th>проведение свадьбы</th>\n",
       "      <td>2313</td>\n",
       "      <td>183</td>\n",
       "      <td>0.079118</td>\n",
       "    </tr>\n",
       "  </tbody>\n",
       "</table>\n",
       "</div>"
      ],
      "text/plain": [
       "                          all_credits  all_debtors  share_debtors\n",
       "purpose_category                                                 \n",
       "операции с автомобилем           4279          400       0.093480\n",
       "операции с недвижимостью        10751          780       0.072551\n",
       "получение образования            3988          369       0.092528\n",
       "проведение свадьбы               2313          183       0.079118"
      ]
     },
     "metadata": {},
     "output_type": "display_data"
    }
   ],
   "source": [
    "# Применяем функцию вывода сводной таблицы к столбцу категорий целей кредитования\n",
    "display_pivot_table('purpose_category')"
   ]
  },
  {
   "cell_type": "markdown",
   "id": "031036f8",
   "metadata": {},
   "source": [
    "<div class=\"alert alert-success\">\n",
    "<b>Комментарий 3 ревьюера - все отлично! ✅ </b>\n",
    "\n",
    "ОК, замечательно!\n",
    "</div>"
   ]
  },
  {
   "cell_type": "markdown",
   "id": "cf05ed63",
   "metadata": {
    "deletable": false,
    "id": "cf05ed63"
   },
   "source": [
    "**Вывод:** Абсолютные значения количества заёмщиков с задолженностью по целям кредитов:\n",
    "\n",
    "- операции с недвижимостью – 780;\n",
    "- операции с автомобилем – 400 должников;\n",
    "- на получение образования – 369 должников;\n",
    "- на проведение свадьбы – 183.\n",
    "\n",
    "Однако, при расчёте относительных показателей к общему числу заёмщиков каждой категории:\n",
    "\n",
    "- операции с недвижимостью – 0.072551 (~7%);\n",
    "- операции с автомобилем – 0.093480 (~9%);\n",
    "- получение образования – 0.092528 (~9%);\n",
    "- проведение свадьбы – 0.079118 (~7%).\n",
    "\n",
    "Из относительных показателей видно, что и цели порлучения кредита не могут существенно влиять на вероятность своевременного возврата, разница в доле заёмщиков с задолженностью не более 2%."
   ]
  },
  {
   "cell_type": "markdown",
   "id": "6e546911",
   "metadata": {},
   "source": [
    "<div class=\"alert alert-warning\">\n",
    "<b>Комментарий ревьюера - замечания и рекомендации ⚠️</b>\n",
    "    \n",
    "По основной занятости я работаю в известном российском банке и для нас расхождение в данных между кластерами в 1-2 процента бывают выше шума выборки. Но здесь учебная задача и давай продемонстрируем, что мы сможем выделить две группы с отличиями в кредитном поведении\n",
    "</div>"
   ]
  },
  {
   "cell_type": "markdown",
   "id": "b5b61296",
   "metadata": {},
   "source": [
    "<div style=\"border:solid blue 3px; padding: 20px\">  \n",
    "    \n",
    "Да, спасибо.  \n",
    "    Как я писала выше добавление столбца с общим количеством заёмщиков \"подсвечаивает\" вес каждой из категорий.  \n",
    "    Кроме того, если сравнить  0.072551 и 0.093480, то разница в скоринге \n",
    "этих двух групп составляет уже \\~28,8% (0.072551 - 0.093480 / 0.072551).  \n",
    "    \n",
    "С этой точки зрения группы заёмщиков с целями на операции с автомобилем и получение образования могут получать оценку существенно выше, чем на операции с недвижимостью и проведение свадьбы."
   ]
  },
  {
   "cell_type": "markdown",
   "id": "286f55c3",
   "metadata": {},
   "source": [
    "<div class=\"alert alert-success\">\n",
    "<b>Комментарий 3 ревьюера - все отлично! ✅ </b>\n",
    "\n",
    "Супер!\n",
    "</div>"
   ]
  },
  {
   "cell_type": "markdown",
   "id": "46c1f10b",
   "metadata": {
    "deletable": false,
    "editable": false,
    "id": "46c1f10b"
   },
   "source": [
    "#### 3.5 Приведите возможные причины появления пропусков в исходных данных."
   ]
  },
  {
   "cell_type": "markdown",
   "id": "3697d2a9",
   "metadata": {
    "deletable": false,
    "id": "3697d2a9"
   },
   "source": [
    "*Ответ:*  В исходных данных датафрейма пропуски были обнаружены в столбцах с общим трудовым стажем 'days_employed' и ежемесячном доходе'total_income'. \n",
    "\n",
    "акие пропуски могли возникнуть из-за недостаточного предоставления информации заёмщиками, неподтверждённой информации, отсутствии требований по их предоставлению для некоторых видов кредитов (например, товарные займы с минимальным пакетов подтверждающей информации).\n",
    "\n",
    "Однако, если известны другие данные о потенциальном заёмщике, то мы можем работать с такими клиентами без ущерба для оценки рисков."
   ]
  },
  {
   "cell_type": "markdown",
   "id": "92f9cc77",
   "metadata": {},
   "source": [
    "<div class=\"alert alert-success\">\n",
    "<b>Комментарий ревьюера - все отлично! ✅ </b>\n",
    "\n",
    "Правильный ответ! Подвох был в том, что мы работаем с статистикой выданных кредитов. А люди могут умышленно не давать информацию, предполагая, что это создает выйгрышные условия для получения займа\n",
    "    \n",
    "И да, вторая причина пропуска данных может быть технические ошибки при слиянии или учете данных\n",
    "</div>"
   ]
  },
  {
   "cell_type": "markdown",
   "id": "3137d257",
   "metadata": {
    "deletable": false,
    "editable": false,
    "id": "3137d257"
   },
   "source": [
    "#### 3.6 Объясните, почему заполнить пропуски медианным значением — лучшее решение для количественных переменных."
   ]
  },
  {
   "cell_type": "markdown",
   "id": "cf40012a",
   "metadata": {
    "deletable": false,
    "id": "cf40012a"
   },
   "source": [
    "*Ответ:*  При обнаружении пропусков наиболее разумно категоризировать заёмщиков по категориям связанным с такими пропусками, например уровень дохода напрямую зависит от типа занятости и заполнить пропуски медианными значениями каждой из категорий.\n",
    "Медиана  —  это такое число в выборке, что ровно половина элементов больше него, а другая половина —  меньше. На медианное значение выборки не влияют строки с существенными отклонениями от типичных значений для каждой категории. Таким образом медианное значение характеризиует состояние выборки."
   ]
  },
  {
   "cell_type": "markdown",
   "id": "0c1b6769",
   "metadata": {},
   "source": [
    "<div class=\"alert alert-success\">\n",
    "<b>Комментарий ревьюера - все отлично! ✅ </b>\n",
    "\n",
    "Да, все верно. Мы обычно говорим так - вбросы сильно влияют на средне-арифмитическое и существенно меньше на медиану. А на будущее -  надо понимать откуда вбросы получились и обосновано принимать решение по их обработке\n",
    "</div>"
   ]
  },
  {
   "cell_type": "markdown",
   "id": "57bc304e",
   "metadata": {
    "deletable": false,
    "editable": false,
    "id": "57bc304e"
   },
   "source": [
    "### Шаг 4: общий вывод."
   ]
  },
  {
   "cell_type": "markdown",
   "id": "1ab75d1c",
   "metadata": {
    "deletable": false,
    "id": "1ab75d1c"
   },
   "source": [
    "Анализ данных о заёмщиках позволил проверить их на полноту, корректность и достаточность для формирования выводов по оценке платёжеспособности потенциальных заёмщиков.\n",
    "\n",
    "Важно начать анализ с оценки качества данных, заполнении пропусков, оценки влияния пропусков на общие выводы, категоризировать заёмщиков по сумме доходов и целям кредитования, после этого можно оценить вероятность возврата кредита в срок по каждой из категорий, оценить влияние каждого из факторов на такой рейтинг.\n",
    "\n",
    "При анализе влияния факторов выявлено следующее:\n",
    "- самая высокая доля заёмщиков, имеющих задолженности среди родителей 4 детей (\\~10%), среди родителей 1 и 2 детей \\~9%; \n",
    "Однако, максимальное отклонение долей заёмщиков с долгами между родителями 4 детей (\\~10%) и заёмщиков без детей \\~8% — 25%.  \n",
    "- самая высокая доля заёмщиков, имеющих задолженности среди пар, состоящих в браке и неженатых/незамужних \\~9%;\n",
    "Однако, максимальное отклонение долей заёмщиков с долгами между этими двумя категориями (по \\~9%) и вдов/ вдовцов и разведённых по \\~7%.\n",
    "- самая высокая доля заёмщиков, имеющих задолженности среди заёмщиков с доходами ниже среднего - до 30 000 руб. (\\~9%). При этом самая низкая доля должников среди заёмщиков с доходами чуть выше - от 30 001 до  50 000 руб. \\~6%; \n",
    "Таким образом, максимальное отклонение долей заёмщиков с долгами между \"соседними категориями\" доходов (\\~3%).\n",
    "- анализ целей кредитования тоже не позволяет сделать однозначные выводы о надёжности заёмщиков. Самый высокий показатель долгов среди займов на образование и операций с автомобилем \\~9%. Но отклонения на займы на проведение свадьбы и покупку недвижимости составляет \\~2% и составляет по \\~7%. \n",
    "Вряд ли это позволяет делать выводы о \"ненадёжных\" целях кредитования.\n",
    "\n",
    "Таким образом, общий рейтинг лучше формировать на основании комплекса этих категорий и метрик."
   ]
  },
  {
   "cell_type": "markdown",
   "id": "8b3de956",
   "metadata": {},
   "source": [
    "<div class=\"alert alert-block alert-danger\">\n",
    "<b>Комментарий ревьюера - на доработку ❌</b>   \n",
    "\n",
    "Прошу добавить в начало финального вывода описание данных. Какие были получены данные, сколько их было, с какими ошибками/пропусками мы столкнулись, как обрабатывались. Поля описывать не надо - достаточно показать насколько можно доверять им! Тут надо больше цифр, заказчики исследований больше верят цифрам!\n",
    "    \n",
    "Потому что, по моему опыту работу, в первую очередь заказчик исследования читает вывод и только потом изучает весь проект, если есть на то время. \n",
    "    \n",
    "А вот рекомендации нужно сильно сжать! Потому что это сжатые промежуточные выводы по каждому из разделов. Если заказчику нужно будет разобраться - он сходит в соответствующий раздел\n",
    "    \n",
    "</div>"
   ]
  },
  {
   "cell_type": "markdown",
   "id": "111a133c",
   "metadata": {},
   "source": [
    "<div style=\"border:solid blue 3px; padding: 20px\">  \n",
    "<b>Исправленный финальный вывод</b>    \n",
    "\n",
    "    Предоставлен таблица с данными о заёмщиках (21 525 строк), включающая в себя следующие столбцы:\n",
    "\n",
    "- children — количество детей в семье\n",
    "- days_employed — общий трудовой стаж в днях\n",
    "- dob_years — возраст клиента в годах\n",
    "- education — уровень образования клиента\n",
    "- education_id — идентификатор уровня образования\n",
    "- family_status — семейное положение\n",
    "- family_status_id — идентификатор семейного положения\n",
    "- gender — пол клиента\n",
    "- income_type — тип занятости\n",
    "- debt — имел ли задолженность по возврату кредитов\n",
    "- total_income — ежемесячный доход\n",
    "- purpose — цель получения кредита\n",
    "    \n",
    "     Пустые значения (2 174 строки) выявлены в столбцах со стажем ('days_employed') и размером дохода ('total_income'). \n",
    "    Для заполнения пропусков сгруппировала всех заёмщиков по типу занятости, рассчитала медианное значение в каждой из групп и указала их в пропущенных строках. Такое решение позволило не потерять важную информацию и не исказить общие данные для последующего анализа.  \n",
    "    Далее были обработаны аномальные значения в данных столбца о количестве детей ('children'), выявлены строки с аномальными значениями (-1, 20). Строки с такими данными были удалены.\n",
    "    Также были выявлены и удалены строки-дубликаты во избежание искажения итоговой оценки.\n",
    "    Данные о заёмщиках объединила в категории по количеству детей, семейному положению, целям кредита и уровню дохода. Полученные категории оценила по столбцу о наличии задолженности по возврату кредитов ('debt').  \n",
    "    \n",
    "    \n",
    "    В каждой из категорий рассчитаны:\n",
    "    - общее количество заёмщиков;\n",
    "    - общее количество заёмщиков, имеющих задолженность по возврату кредитов;\n",
    "    - доля заёмщиков, имеющих задолженность по возврату кредитов.  \n",
    "    \n",
    "    \n",
    "    Подробная информацию по результатам анализа и выводам представлена в соответствующих разделах."
   ]
  },
  {
   "cell_type": "markdown",
   "id": "61055dcd",
   "metadata": {},
   "source": [
    "<div class=\"alert alert-success\">\n",
    "<b>Комментарий 3 ревьюера - все отлично! ✅ </b>\n",
    "\n",
    "Великолепно! Никаких вопросов к выводам. И на будущее - поля не стоит описывать заказчику, а вот писать сколько мы отбросили данных при предобработке стоит. Потому что это говорит о валидности сырого и обработанного датасета. Ну и очень кратко списком я бы повторил промежуточные выводы\n",
    "</div>"
   ]
  },
  {
   "cell_type": "markdown",
   "id": "4abdca94",
   "metadata": {},
   "source": [
    "<div class=\"alert alert-info\">\n",
    "\n",
    "<h3> Резюме по проекту ❌ <a class=\"tocSkip\"> </h3>\n",
    "  \n",
    "Я вижу интересно выполненную работу с наличием в целом прекрасных промежуточных выводов! Давай добавим описание данных и сформулируем более точный финальный вывод + сделаем новую функцию для более простого вывода результатов\n",
    "  \n",
    "Остались сделать небольшие доработки, чтобы принять проект:\n",
    "* сделать новую сводную таблицу в одной функции\n",
    "* 4 раза ее вызвать\n",
    "* поправить некоторые промежуточные выводы   \n",
    "* добавить описание сырых и обработанных данных в финальный вывод + сделать более сжатый финальный вывод\n",
    "\n",
    "Спасибо! Так держать 👍 Жду твой проект на повторное ревью!\n",
    "</div>"
   ]
  },
  {
   "cell_type": "markdown",
   "id": "66993fe3",
   "metadata": {},
   "source": [
    "<div class=\"alert alert-info\">\n",
    "\n",
    "<h3> Резюме 2 по проекту ❌ <a class=\"tocSkip\"> </h3>\n",
    "  \n",
    "Внимательно ознакомился с проектом. Не увидел вообще никаких правок, наверное что-то случилось. Повторно прошу добавить описание данных и сформулировать более точный финальный вывод + сделать новую функцию для более простого вывода результатов\n",
    "  \n",
    "Напоминаю, какие жду доработки, чтобы принять проект:\n",
    "* сделать новую сводную таблицу в одной функции\n",
    "* 4 раза ее вызвать\n",
    "* поправить некоторые промежуточные выводы   \n",
    "* добавить описание сырых и обработанных данных в финальный вывод + сделать более сжатый финальный вывод\n",
    "\n",
    "Жду твой проект на повторное ревью!\n",
    "</div>"
   ]
  },
  {
   "cell_type": "markdown",
   "id": "825605c5",
   "metadata": {},
   "source": [
    "<div class=\"alert alert-info\">\n",
    "\n",
    "<h3> Резюме 3 по проекту ✅<a class=\"tocSkip\"> </h3>\n",
    "  \n",
    "Розалия, спасибо что сделала функцию с сводной таблицей, поправила выводы и учла все мои рекомендации. Так держать! \n",
    "\n",
    "Работа принята. Удачи с следующими проектами 🍀\n",
    "</div>"
   ]
  }
 ],
 "metadata": {
  "ExecuteTimeLog": [
   {
    "duration": 769,
    "start_time": "2024-01-17T12:46:18.595Z"
   },
   {
    "duration": 31,
    "start_time": "2024-01-17T12:46:19.365Z"
   },
   {
    "duration": 46,
    "start_time": "2024-01-17T12:46:19.398Z"
   },
   {
    "duration": 11,
    "start_time": "2024-01-17T12:46:19.446Z"
   },
   {
    "duration": 45,
    "start_time": "2024-01-17T12:46:19.458Z"
   },
   {
    "duration": 3,
    "start_time": "2024-01-17T12:46:19.505Z"
   },
   {
    "duration": 22,
    "start_time": "2024-01-17T12:46:19.509Z"
   },
   {
    "duration": 5,
    "start_time": "2024-01-17T12:46:19.535Z"
   },
   {
    "duration": 9,
    "start_time": "2024-01-17T12:46:19.541Z"
   },
   {
    "duration": 10,
    "start_time": "2024-01-17T12:46:19.553Z"
   },
   {
    "duration": 63,
    "start_time": "2024-01-17T12:46:19.564Z"
   },
   {
    "duration": 18,
    "start_time": "2024-01-17T12:46:19.628Z"
   },
   {
    "duration": 17,
    "start_time": "2024-01-17T12:46:19.647Z"
   },
   {
    "duration": 18,
    "start_time": "2024-01-17T12:46:19.666Z"
   },
   {
    "duration": 21,
    "start_time": "2024-01-17T12:46:19.685Z"
   },
   {
    "duration": 33,
    "start_time": "2024-01-17T12:46:19.707Z"
   },
   {
    "duration": 4,
    "start_time": "2024-01-17T12:46:19.741Z"
   },
   {
    "duration": 12,
    "start_time": "2024-01-17T12:46:19.747Z"
   },
   {
    "duration": 8,
    "start_time": "2024-01-17T12:46:19.761Z"
   },
   {
    "duration": 4,
    "start_time": "2024-01-17T12:46:19.770Z"
   },
   {
    "duration": 21,
    "start_time": "2024-01-17T12:46:19.776Z"
   },
   {
    "duration": 18,
    "start_time": "2024-01-17T13:23:34.454Z"
   },
   {
    "duration": 90,
    "start_time": "2024-01-17T13:24:33.045Z"
   },
   {
    "duration": 17,
    "start_time": "2024-01-17T13:24:45.894Z"
   },
   {
    "duration": 29,
    "start_time": "2024-01-17T13:25:55.718Z"
   },
   {
    "duration": 111,
    "start_time": "2024-01-17T13:44:46.675Z"
   },
   {
    "duration": 63,
    "start_time": "2024-01-17T13:44:56.649Z"
   },
   {
    "duration": 53,
    "start_time": "2024-01-17T13:45:11.058Z"
   },
   {
    "duration": 42,
    "start_time": "2024-01-17T14:24:34.313Z"
   },
   {
    "duration": 12,
    "start_time": "2024-01-17T14:24:57.583Z"
   },
   {
    "duration": 14,
    "start_time": "2024-01-17T14:54:07.768Z"
   },
   {
    "duration": 16,
    "start_time": "2024-01-17T14:54:16.364Z"
   },
   {
    "duration": 11,
    "start_time": "2024-01-17T14:54:57.100Z"
   },
   {
    "duration": 7,
    "start_time": "2024-01-17T14:56:55.452Z"
   },
   {
    "duration": 557,
    "start_time": "2024-01-17T14:57:51.208Z"
   },
   {
    "duration": 23,
    "start_time": "2024-01-17T14:57:51.767Z"
   },
   {
    "duration": 32,
    "start_time": "2024-01-17T14:57:51.792Z"
   },
   {
    "duration": 22,
    "start_time": "2024-01-17T14:57:51.826Z"
   },
   {
    "duration": 45,
    "start_time": "2024-01-17T14:57:51.849Z"
   },
   {
    "duration": 3,
    "start_time": "2024-01-17T14:57:51.896Z"
   },
   {
    "duration": 29,
    "start_time": "2024-01-17T14:57:51.900Z"
   },
   {
    "duration": 17,
    "start_time": "2024-01-17T14:57:51.931Z"
   },
   {
    "duration": 15,
    "start_time": "2024-01-17T14:57:51.949Z"
   },
   {
    "duration": 26,
    "start_time": "2024-01-17T14:57:51.966Z"
   },
   {
    "duration": 79,
    "start_time": "2024-01-17T14:57:51.994Z"
   },
   {
    "duration": 11,
    "start_time": "2024-01-17T14:57:52.074Z"
   },
   {
    "duration": 3,
    "start_time": "2024-01-17T14:57:52.087Z"
   },
   {
    "duration": 29,
    "start_time": "2024-01-17T14:57:52.091Z"
   },
   {
    "duration": 28,
    "start_time": "2024-01-17T14:57:52.123Z"
   },
   {
    "duration": 18,
    "start_time": "2024-01-17T14:57:52.153Z"
   },
   {
    "duration": 13,
    "start_time": "2024-01-17T14:57:52.173Z"
   },
   {
    "duration": 38,
    "start_time": "2024-01-17T14:57:52.188Z"
   },
   {
    "duration": 6,
    "start_time": "2024-01-17T14:57:52.228Z"
   },
   {
    "duration": 13,
    "start_time": "2024-01-17T14:57:52.236Z"
   },
   {
    "duration": 17,
    "start_time": "2024-01-17T14:57:52.250Z"
   },
   {
    "duration": 61,
    "start_time": "2024-01-17T14:57:56.443Z"
   },
   {
    "duration": 10,
    "start_time": "2024-01-17T14:58:38.877Z"
   },
   {
    "duration": 652,
    "start_time": "2024-01-18T18:00:31.086Z"
   },
   {
    "duration": 28,
    "start_time": "2024-01-18T18:00:31.740Z"
   },
   {
    "duration": 21,
    "start_time": "2024-01-18T18:00:31.770Z"
   },
   {
    "duration": 36,
    "start_time": "2024-01-18T18:00:31.793Z"
   },
   {
    "duration": 45,
    "start_time": "2024-01-18T18:00:31.830Z"
   },
   {
    "duration": 3,
    "start_time": "2024-01-18T18:00:31.877Z"
   },
   {
    "duration": 22,
    "start_time": "2024-01-18T18:00:31.881Z"
   },
   {
    "duration": 31,
    "start_time": "2024-01-18T18:00:31.904Z"
   },
   {
    "duration": 24,
    "start_time": "2024-01-18T18:00:31.937Z"
   },
   {
    "duration": 11,
    "start_time": "2024-01-18T18:00:31.964Z"
   },
   {
    "duration": 65,
    "start_time": "2024-01-18T18:00:31.977Z"
   },
   {
    "duration": 9,
    "start_time": "2024-01-18T18:00:32.043Z"
   },
   {
    "duration": 13,
    "start_time": "2024-01-18T18:00:32.054Z"
   },
   {
    "duration": 13,
    "start_time": "2024-01-18T18:00:32.068Z"
   },
   {
    "duration": 36,
    "start_time": "2024-01-18T18:00:32.082Z"
   },
   {
    "duration": 14,
    "start_time": "2024-01-18T18:00:32.120Z"
   },
   {
    "duration": 4,
    "start_time": "2024-01-18T18:00:32.135Z"
   },
   {
    "duration": 47,
    "start_time": "2024-01-18T18:00:32.140Z"
   },
   {
    "duration": 24,
    "start_time": "2024-01-18T18:00:32.189Z"
   },
   {
    "duration": 19,
    "start_time": "2024-01-18T18:00:32.214Z"
   },
   {
    "duration": 47,
    "start_time": "2024-01-18T18:00:32.234Z"
   },
   {
    "duration": 98,
    "start_time": "2024-01-18T18:26:02.980Z"
   },
   {
    "duration": 458,
    "start_time": "2024-01-18T18:27:15.556Z"
   },
   {
    "duration": 20,
    "start_time": "2024-01-18T18:27:16.016Z"
   },
   {
    "duration": 14,
    "start_time": "2024-01-18T18:27:16.037Z"
   },
   {
    "duration": 16,
    "start_time": "2024-01-18T18:27:16.053Z"
   },
   {
    "duration": 40,
    "start_time": "2024-01-18T18:27:16.070Z"
   },
   {
    "duration": 3,
    "start_time": "2024-01-18T18:27:16.112Z"
   },
   {
    "duration": 9,
    "start_time": "2024-01-18T18:27:16.116Z"
   },
   {
    "duration": 4,
    "start_time": "2024-01-18T18:27:16.133Z"
   },
   {
    "duration": 9,
    "start_time": "2024-01-18T18:27:16.138Z"
   },
   {
    "duration": 3,
    "start_time": "2024-01-18T18:27:16.149Z"
   },
   {
    "duration": 39,
    "start_time": "2024-01-18T18:27:16.153Z"
   },
   {
    "duration": 9,
    "start_time": "2024-01-18T18:27:16.194Z"
   },
   {
    "duration": 30,
    "start_time": "2024-01-18T18:27:16.205Z"
   },
   {
    "duration": 17,
    "start_time": "2024-01-18T18:27:16.237Z"
   },
   {
    "duration": 20,
    "start_time": "2024-01-18T18:27:16.256Z"
   },
   {
    "duration": 16,
    "start_time": "2024-01-18T18:27:16.278Z"
   },
   {
    "duration": 4,
    "start_time": "2024-01-18T18:27:16.295Z"
   },
   {
    "duration": 35,
    "start_time": "2024-01-18T18:27:16.301Z"
   },
   {
    "duration": 19,
    "start_time": "2024-01-18T18:27:16.337Z"
   },
   {
    "duration": 4,
    "start_time": "2024-01-18T18:27:16.358Z"
   },
   {
    "duration": 18,
    "start_time": "2024-01-18T18:27:16.363Z"
   },
   {
    "duration": 69,
    "start_time": "2024-01-18T18:27:52.370Z"
   },
   {
    "duration": 431,
    "start_time": "2024-01-18T18:28:10.675Z"
   },
   {
    "duration": 21,
    "start_time": "2024-01-18T18:28:13.715Z"
   },
   {
    "duration": 25,
    "start_time": "2024-01-18T18:28:17.586Z"
   },
   {
    "duration": 11,
    "start_time": "2024-01-18T18:28:21.395Z"
   },
   {
    "duration": 36,
    "start_time": "2024-01-18T18:28:24.306Z"
   },
   {
    "duration": 4,
    "start_time": "2024-01-18T18:28:28.834Z"
   },
   {
    "duration": 8,
    "start_time": "2024-01-18T18:28:31.346Z"
   },
   {
    "duration": 5,
    "start_time": "2024-01-18T18:28:35.847Z"
   },
   {
    "duration": 6,
    "start_time": "2024-01-18T18:28:38.738Z"
   },
   {
    "duration": 5,
    "start_time": "2024-01-18T18:28:41.427Z"
   },
   {
    "duration": 34,
    "start_time": "2024-01-18T18:28:45.905Z"
   },
   {
    "duration": 10,
    "start_time": "2024-01-18T18:28:48.547Z"
   },
   {
    "duration": 4,
    "start_time": "2024-01-18T18:28:52.947Z"
   },
   {
    "duration": 12,
    "start_time": "2024-01-18T18:28:55.667Z"
   },
   {
    "duration": 28,
    "start_time": "2024-01-18T18:28:58.467Z"
   },
   {
    "duration": 25,
    "start_time": "2024-01-18T18:29:00.995Z"
   },
   {
    "duration": 4,
    "start_time": "2024-01-18T18:29:04.994Z"
   },
   {
    "duration": 18,
    "start_time": "2024-01-18T18:29:08.627Z"
   },
   {
    "duration": 10,
    "start_time": "2024-01-18T18:29:11.749Z"
   },
   {
    "duration": 4,
    "start_time": "2024-01-18T18:29:16.852Z"
   },
   {
    "duration": 8,
    "start_time": "2024-01-18T18:29:20.194Z"
   },
   {
    "duration": 82,
    "start_time": "2024-01-18T18:29:24.227Z"
   },
   {
    "duration": 75,
    "start_time": "2024-01-18T18:31:04.069Z"
   },
   {
    "duration": 15,
    "start_time": "2024-01-18T18:31:14.772Z"
   },
   {
    "duration": 15,
    "start_time": "2024-01-18T18:31:48.085Z"
   },
   {
    "duration": 460,
    "start_time": "2024-01-18T18:32:00.038Z"
   },
   {
    "duration": 20,
    "start_time": "2024-01-18T18:32:00.500Z"
   },
   {
    "duration": 45,
    "start_time": "2024-01-18T18:32:00.522Z"
   },
   {
    "duration": 48,
    "start_time": "2024-01-18T18:32:00.570Z"
   },
   {
    "duration": 63,
    "start_time": "2024-01-18T18:32:00.619Z"
   },
   {
    "duration": 3,
    "start_time": "2024-01-18T18:32:00.683Z"
   },
   {
    "duration": 47,
    "start_time": "2024-01-18T18:32:00.688Z"
   },
   {
    "duration": 25,
    "start_time": "2024-01-18T18:32:00.737Z"
   },
   {
    "duration": 35,
    "start_time": "2024-01-18T18:32:00.764Z"
   },
   {
    "duration": 28,
    "start_time": "2024-01-18T18:32:00.802Z"
   },
   {
    "duration": 47,
    "start_time": "2024-01-18T18:32:00.832Z"
   },
   {
    "duration": 20,
    "start_time": "2024-01-18T18:32:00.881Z"
   },
   {
    "duration": 25,
    "start_time": "2024-01-18T18:32:00.903Z"
   },
   {
    "duration": 51,
    "start_time": "2024-01-18T18:32:00.929Z"
   },
   {
    "duration": 49,
    "start_time": "2024-01-18T18:32:00.981Z"
   },
   {
    "duration": 27,
    "start_time": "2024-01-18T18:32:01.031Z"
   },
   {
    "duration": 13,
    "start_time": "2024-01-18T18:32:01.059Z"
   },
   {
    "duration": 30,
    "start_time": "2024-01-18T18:32:01.073Z"
   },
   {
    "duration": 29,
    "start_time": "2024-01-18T18:32:01.105Z"
   },
   {
    "duration": 7,
    "start_time": "2024-01-18T18:32:01.136Z"
   },
   {
    "duration": 17,
    "start_time": "2024-01-18T18:32:01.144Z"
   },
   {
    "duration": 74,
    "start_time": "2024-01-18T18:32:02.867Z"
   },
   {
    "duration": 13,
    "start_time": "2024-01-18T18:37:51.830Z"
   },
   {
    "duration": 20,
    "start_time": "2024-01-18T18:38:15.751Z"
   },
   {
    "duration": 12,
    "start_time": "2024-01-18T18:39:38.391Z"
   },
   {
    "duration": 9,
    "start_time": "2024-01-18T18:39:52.039Z"
   },
   {
    "duration": 7,
    "start_time": "2024-01-18T18:44:32.531Z"
   },
   {
    "duration": 28,
    "start_time": "2024-01-18T18:44:42.394Z"
   },
   {
    "duration": 14,
    "start_time": "2024-01-18T18:45:36.729Z"
   },
   {
    "duration": 14,
    "start_time": "2024-01-18T18:47:50.812Z"
   },
   {
    "duration": 25,
    "start_time": "2024-01-18T18:48:40.237Z"
   },
   {
    "duration": 14,
    "start_time": "2024-01-18T18:58:10.639Z"
   },
   {
    "duration": 18,
    "start_time": "2024-01-18T18:58:59.232Z"
   },
   {
    "duration": 18,
    "start_time": "2024-01-18T19:03:04.801Z"
   },
   {
    "duration": 19,
    "start_time": "2024-01-18T19:15:17.109Z"
   },
   {
    "duration": 75,
    "start_time": "2024-01-18T19:15:27.743Z"
   },
   {
    "duration": 16,
    "start_time": "2024-01-18T19:15:27.820Z"
   },
   {
    "duration": 58,
    "start_time": "2024-01-18T19:15:27.837Z"
   },
   {
    "duration": 56,
    "start_time": "2024-01-18T19:15:27.897Z"
   },
   {
    "duration": 53,
    "start_time": "2024-01-18T19:15:27.954Z"
   },
   {
    "duration": 19,
    "start_time": "2024-01-18T19:15:28.008Z"
   },
   {
    "duration": 56,
    "start_time": "2024-01-18T19:15:28.028Z"
   },
   {
    "duration": 16,
    "start_time": "2024-01-18T19:15:28.086Z"
   },
   {
    "duration": 54,
    "start_time": "2024-01-18T19:15:28.103Z"
   },
   {
    "duration": 36,
    "start_time": "2024-01-18T19:15:28.159Z"
   },
   {
    "duration": 80,
    "start_time": "2024-01-18T19:15:28.197Z"
   },
   {
    "duration": 30,
    "start_time": "2024-01-18T19:15:28.278Z"
   },
   {
    "duration": 54,
    "start_time": "2024-01-18T19:15:28.310Z"
   },
   {
    "duration": 35,
    "start_time": "2024-01-18T19:15:28.366Z"
   },
   {
    "duration": 96,
    "start_time": "2024-01-18T19:15:28.402Z"
   },
   {
    "duration": 27,
    "start_time": "2024-01-18T19:15:28.499Z"
   },
   {
    "duration": 33,
    "start_time": "2024-01-18T19:15:28.528Z"
   },
   {
    "duration": 47,
    "start_time": "2024-01-18T19:15:28.563Z"
   },
   {
    "duration": 33,
    "start_time": "2024-01-18T19:15:28.612Z"
   },
   {
    "duration": 68,
    "start_time": "2024-01-18T19:15:28.646Z"
   },
   {
    "duration": 35,
    "start_time": "2024-01-18T19:15:28.716Z"
   },
   {
    "duration": 470,
    "start_time": "2024-01-18T19:15:39.449Z"
   },
   {
    "duration": 22,
    "start_time": "2024-01-18T19:15:39.921Z"
   },
   {
    "duration": 34,
    "start_time": "2024-01-18T19:15:39.944Z"
   },
   {
    "duration": 15,
    "start_time": "2024-01-18T19:15:39.980Z"
   },
   {
    "duration": 79,
    "start_time": "2024-01-18T19:15:39.996Z"
   },
   {
    "duration": 4,
    "start_time": "2024-01-18T19:15:40.076Z"
   },
   {
    "duration": 24,
    "start_time": "2024-01-18T19:15:40.082Z"
   },
   {
    "duration": 17,
    "start_time": "2024-01-18T19:15:40.108Z"
   },
   {
    "duration": 18,
    "start_time": "2024-01-18T19:15:40.127Z"
   },
   {
    "duration": 25,
    "start_time": "2024-01-18T19:15:40.148Z"
   },
   {
    "duration": 60,
    "start_time": "2024-01-18T19:15:40.175Z"
   },
   {
    "duration": 12,
    "start_time": "2024-01-18T19:15:40.237Z"
   },
   {
    "duration": 25,
    "start_time": "2024-01-18T19:15:40.251Z"
   },
   {
    "duration": 47,
    "start_time": "2024-01-18T19:15:40.278Z"
   },
   {
    "duration": 35,
    "start_time": "2024-01-18T19:15:40.326Z"
   },
   {
    "duration": 29,
    "start_time": "2024-01-18T19:15:40.362Z"
   },
   {
    "duration": 17,
    "start_time": "2024-01-18T19:15:40.393Z"
   },
   {
    "duration": 31,
    "start_time": "2024-01-18T19:15:40.411Z"
   },
   {
    "duration": 30,
    "start_time": "2024-01-18T19:15:40.443Z"
   },
   {
    "duration": 35,
    "start_time": "2024-01-18T19:15:40.475Z"
   },
   {
    "duration": 28,
    "start_time": "2024-01-18T19:15:40.512Z"
   },
   {
    "duration": 20,
    "start_time": "2024-01-18T19:15:47.270Z"
   },
   {
    "duration": 14,
    "start_time": "2024-01-18T19:16:27.886Z"
   },
   {
    "duration": 14,
    "start_time": "2024-01-18T19:18:04.231Z"
   },
   {
    "duration": 17,
    "start_time": "2024-01-18T19:19:13.782Z"
   },
   {
    "duration": 36,
    "start_time": "2024-01-18T19:21:00.425Z"
   },
   {
    "duration": 30,
    "start_time": "2024-01-18T19:33:33.550Z"
   },
   {
    "duration": 76,
    "start_time": "2024-01-18T19:42:24.390Z"
   },
   {
    "duration": 13,
    "start_time": "2024-01-18T19:48:41.893Z"
   },
   {
    "duration": 31,
    "start_time": "2024-01-18T19:58:44.179Z"
   },
   {
    "duration": 35,
    "start_time": "2024-01-18T19:59:04.346Z"
   },
   {
    "duration": 42,
    "start_time": "2024-01-18T20:00:03.027Z"
   },
   {
    "duration": 13,
    "start_time": "2024-01-18T20:00:46.107Z"
   },
   {
    "duration": 89,
    "start_time": "2024-01-18T20:08:07.801Z"
   },
   {
    "duration": 101,
    "start_time": "2024-01-18T20:09:03.393Z"
   },
   {
    "duration": 79,
    "start_time": "2024-01-18T20:09:29.121Z"
   },
   {
    "duration": 20,
    "start_time": "2024-01-18T20:10:17.249Z"
   },
   {
    "duration": 26,
    "start_time": "2024-01-18T20:10:49.465Z"
   },
   {
    "duration": 98,
    "start_time": "2024-01-18T20:53:22.079Z"
   },
   {
    "duration": 66,
    "start_time": "2024-01-18T20:53:31.556Z"
   },
   {
    "duration": 80,
    "start_time": "2024-01-18T20:54:17.320Z"
   },
   {
    "duration": 1223,
    "start_time": "2024-01-18T20:54:46.854Z"
   },
   {
    "duration": 1319,
    "start_time": "2024-01-18T20:55:15.958Z"
   },
   {
    "duration": 1073,
    "start_time": "2024-01-18T20:55:38.360Z"
   },
   {
    "duration": 21,
    "start_time": "2024-01-18T20:56:18.040Z"
   },
   {
    "duration": 103,
    "start_time": "2024-01-18T20:56:33.878Z"
   },
   {
    "duration": 89,
    "start_time": "2024-01-18T20:58:35.111Z"
   },
   {
    "duration": 91,
    "start_time": "2024-01-18T21:00:56.825Z"
   },
   {
    "duration": 165,
    "start_time": "2024-01-18T21:01:53.481Z"
   },
   {
    "duration": 26,
    "start_time": "2024-01-18T21:04:06.586Z"
   },
   {
    "duration": 14,
    "start_time": "2024-01-18T21:04:57.641Z"
   },
   {
    "duration": 23,
    "start_time": "2024-01-18T21:05:07.178Z"
   },
   {
    "duration": 34,
    "start_time": "2024-01-18T21:05:27.542Z"
   },
   {
    "duration": 1179,
    "start_time": "2024-01-18T21:24:01.946Z"
   },
   {
    "duration": 904,
    "start_time": "2024-01-18T21:24:42.242Z"
   },
   {
    "duration": 926,
    "start_time": "2024-01-18T21:25:44.113Z"
   },
   {
    "duration": 28,
    "start_time": "2024-01-18T21:35:59.446Z"
   },
   {
    "duration": 41,
    "start_time": "2024-01-18T21:37:06.934Z"
   },
   {
    "duration": 962,
    "start_time": "2024-01-18T21:37:48.111Z"
   },
   {
    "duration": 962,
    "start_time": "2024-01-18T21:38:29.654Z"
   },
   {
    "duration": 902,
    "start_time": "2024-01-18T21:39:25.510Z"
   },
   {
    "duration": 1243,
    "start_time": "2024-01-18T21:40:01.031Z"
   },
   {
    "duration": 1206,
    "start_time": "2024-01-18T21:44:24.521Z"
   },
   {
    "duration": 1133,
    "start_time": "2024-01-18T21:45:51.880Z"
   },
   {
    "duration": 1236,
    "start_time": "2024-01-18T21:46:12.890Z"
   },
   {
    "duration": 29,
    "start_time": "2024-01-18T21:48:24.888Z"
   },
   {
    "duration": 35,
    "start_time": "2024-01-18T21:49:11.826Z"
   },
   {
    "duration": 36,
    "start_time": "2024-01-18T21:49:43.737Z"
   },
   {
    "duration": 47,
    "start_time": "2024-01-18T21:51:25.786Z"
   },
   {
    "duration": 41,
    "start_time": "2024-01-18T21:51:44.376Z"
   },
   {
    "duration": 1253,
    "start_time": "2024-01-18T21:52:48.648Z"
   },
   {
    "duration": 21,
    "start_time": "2024-01-18T21:53:48.457Z"
   },
   {
    "duration": 29,
    "start_time": "2024-01-18T21:54:23.242Z"
   },
   {
    "duration": 1202,
    "start_time": "2024-01-18T22:01:49.110Z"
   },
   {
    "duration": 952,
    "start_time": "2024-01-18T22:03:27.323Z"
   },
   {
    "duration": 922,
    "start_time": "2024-01-18T22:04:07.643Z"
   },
   {
    "duration": 987,
    "start_time": "2024-01-18T22:04:49.852Z"
   },
   {
    "duration": 74,
    "start_time": "2024-01-18T22:05:40.011Z"
   },
   {
    "duration": 82,
    "start_time": "2024-01-18T22:06:07.899Z"
   },
   {
    "duration": 27,
    "start_time": "2024-01-18T22:06:25.068Z"
   },
   {
    "duration": 28,
    "start_time": "2024-01-18T22:06:48.621Z"
   },
   {
    "duration": 27,
    "start_time": "2024-01-18T22:07:02.574Z"
   },
   {
    "duration": 1042,
    "start_time": "2024-01-18T22:07:13.740Z"
   },
   {
    "duration": 975,
    "start_time": "2024-01-18T22:09:40.511Z"
   },
   {
    "duration": 1018,
    "start_time": "2024-01-18T22:09:47.854Z"
   },
   {
    "duration": 20,
    "start_time": "2024-01-18T22:10:04.367Z"
   },
   {
    "duration": 25,
    "start_time": "2024-01-18T22:10:37.886Z"
   },
   {
    "duration": 17,
    "start_time": "2024-01-18T22:19:19.370Z"
   },
   {
    "duration": 104,
    "start_time": "2024-01-18T22:20:42.369Z"
   },
   {
    "duration": 953,
    "start_time": "2024-01-18T22:20:48.466Z"
   },
   {
    "duration": 18,
    "start_time": "2024-01-18T22:21:02.689Z"
   },
   {
    "duration": 20,
    "start_time": "2024-01-18T22:33:23.750Z"
   },
   {
    "duration": 19,
    "start_time": "2024-01-18T22:35:33.702Z"
   },
   {
    "duration": 27,
    "start_time": "2024-01-18T22:35:43.350Z"
   },
   {
    "duration": 16,
    "start_time": "2024-01-18T22:36:43.926Z"
   },
   {
    "duration": 17,
    "start_time": "2024-01-18T22:41:23.362Z"
   },
   {
    "duration": 18,
    "start_time": "2024-01-18T22:41:48.232Z"
   },
   {
    "duration": 17,
    "start_time": "2024-01-18T22:57:23.854Z"
   },
   {
    "duration": 37,
    "start_time": "2024-01-18T23:15:39.261Z"
   },
   {
    "duration": 16,
    "start_time": "2024-01-18T23:16:08.994Z"
   },
   {
    "duration": 423,
    "start_time": "2024-01-18T23:16:59.885Z"
   },
   {
    "duration": 21,
    "start_time": "2024-01-18T23:17:00.310Z"
   },
   {
    "duration": 78,
    "start_time": "2024-01-18T23:17:00.332Z"
   },
   {
    "duration": 141,
    "start_time": "2024-01-18T23:17:00.412Z"
   },
   {
    "duration": 148,
    "start_time": "2024-01-18T23:17:00.555Z"
   },
   {
    "duration": 89,
    "start_time": "2024-01-18T23:17:00.705Z"
   },
   {
    "duration": 104,
    "start_time": "2024-01-18T23:17:00.796Z"
   },
   {
    "duration": 156,
    "start_time": "2024-01-18T23:17:00.902Z"
   },
   {
    "duration": 127,
    "start_time": "2024-01-18T23:17:01.060Z"
   },
   {
    "duration": 31,
    "start_time": "2024-01-18T23:17:01.190Z"
   },
   {
    "duration": 96,
    "start_time": "2024-01-18T23:17:01.223Z"
   },
   {
    "duration": 62,
    "start_time": "2024-01-18T23:17:01.321Z"
   },
   {
    "duration": 41,
    "start_time": "2024-01-18T23:17:01.384Z"
   },
   {
    "duration": 63,
    "start_time": "2024-01-18T23:17:01.426Z"
   },
   {
    "duration": 56,
    "start_time": "2024-01-18T23:17:01.490Z"
   },
   {
    "duration": 47,
    "start_time": "2024-01-18T23:17:01.547Z"
   },
   {
    "duration": 23,
    "start_time": "2024-01-18T23:17:01.595Z"
   },
   {
    "duration": 60,
    "start_time": "2024-01-18T23:17:01.620Z"
   },
   {
    "duration": 88,
    "start_time": "2024-01-18T23:17:01.682Z"
   },
   {
    "duration": 32,
    "start_time": "2024-01-18T23:17:01.772Z"
   },
   {
    "duration": 36,
    "start_time": "2024-01-18T23:17:01.806Z"
   },
   {
    "duration": 945,
    "start_time": "2024-01-18T23:19:03.600Z"
   },
   {
    "duration": 19,
    "start_time": "2024-01-18T23:19:11.077Z"
   },
   {
    "duration": 1141,
    "start_time": "2024-01-18T23:28:24.503Z"
   },
   {
    "duration": 18,
    "start_time": "2024-01-18T23:28:59.894Z"
   },
   {
    "duration": 48,
    "start_time": "2024-01-18T23:50:23.644Z"
   },
   {
    "duration": 477,
    "start_time": "2024-01-18T23:50:44.239Z"
   },
   {
    "duration": 22,
    "start_time": "2024-01-18T23:50:44.718Z"
   },
   {
    "duration": 16,
    "start_time": "2024-01-18T23:50:44.741Z"
   },
   {
    "duration": 10,
    "start_time": "2024-01-18T23:50:44.759Z"
   },
   {
    "duration": 36,
    "start_time": "2024-01-18T23:50:44.771Z"
   },
   {
    "duration": 3,
    "start_time": "2024-01-18T23:50:44.809Z"
   },
   {
    "duration": 7,
    "start_time": "2024-01-18T23:50:44.834Z"
   },
   {
    "duration": 4,
    "start_time": "2024-01-18T23:50:44.843Z"
   },
   {
    "duration": 7,
    "start_time": "2024-01-18T23:50:44.849Z"
   },
   {
    "duration": 4,
    "start_time": "2024-01-18T23:50:44.858Z"
   },
   {
    "duration": 35,
    "start_time": "2024-01-18T23:50:44.864Z"
   },
   {
    "duration": 10,
    "start_time": "2024-01-18T23:50:44.933Z"
   },
   {
    "duration": 3,
    "start_time": "2024-01-18T23:50:44.945Z"
   },
   {
    "duration": 16,
    "start_time": "2024-01-18T23:50:44.949Z"
   },
   {
    "duration": 19,
    "start_time": "2024-01-18T23:50:44.966Z"
   },
   {
    "duration": 16,
    "start_time": "2024-01-18T23:50:44.987Z"
   },
   {
    "duration": 29,
    "start_time": "2024-01-18T23:50:45.004Z"
   },
   {
    "duration": 14,
    "start_time": "2024-01-18T23:50:45.035Z"
   },
   {
    "duration": 25,
    "start_time": "2024-01-18T23:50:45.050Z"
   },
   {
    "duration": 5,
    "start_time": "2024-01-18T23:50:45.076Z"
   },
   {
    "duration": 32,
    "start_time": "2024-01-18T23:50:45.082Z"
   },
   {
    "duration": 17,
    "start_time": "2024-01-18T23:50:50.460Z"
   },
   {
    "duration": 12,
    "start_time": "2024-01-18T23:52:19.165Z"
   },
   {
    "duration": 531,
    "start_time": "2024-01-19T08:50:55.724Z"
   },
   {
    "duration": 25,
    "start_time": "2024-01-19T08:50:56.257Z"
   },
   {
    "duration": 18,
    "start_time": "2024-01-19T08:50:56.284Z"
   },
   {
    "duration": 25,
    "start_time": "2024-01-19T08:50:56.304Z"
   },
   {
    "duration": 52,
    "start_time": "2024-01-19T08:50:56.331Z"
   },
   {
    "duration": 3,
    "start_time": "2024-01-19T08:50:56.385Z"
   },
   {
    "duration": 31,
    "start_time": "2024-01-19T08:50:56.389Z"
   },
   {
    "duration": 10,
    "start_time": "2024-01-19T08:50:56.421Z"
   },
   {
    "duration": 7,
    "start_time": "2024-01-19T08:50:56.432Z"
   },
   {
    "duration": 4,
    "start_time": "2024-01-19T08:50:56.443Z"
   },
   {
    "duration": 40,
    "start_time": "2024-01-19T08:50:56.448Z"
   },
   {
    "duration": 12,
    "start_time": "2024-01-19T08:50:56.490Z"
   },
   {
    "duration": 13,
    "start_time": "2024-01-19T08:50:56.504Z"
   },
   {
    "duration": 24,
    "start_time": "2024-01-19T08:50:56.518Z"
   },
   {
    "duration": 31,
    "start_time": "2024-01-19T08:50:56.543Z"
   },
   {
    "duration": 19,
    "start_time": "2024-01-19T08:50:56.576Z"
   },
   {
    "duration": 4,
    "start_time": "2024-01-19T08:50:56.597Z"
   },
   {
    "duration": 16,
    "start_time": "2024-01-19T08:50:56.602Z"
   },
   {
    "duration": 12,
    "start_time": "2024-01-19T08:50:56.620Z"
   },
   {
    "duration": 4,
    "start_time": "2024-01-19T08:50:56.633Z"
   },
   {
    "duration": 28,
    "start_time": "2024-01-19T08:50:56.638Z"
   },
   {
    "duration": 18,
    "start_time": "2024-01-19T08:53:18.795Z"
   },
   {
    "duration": 92,
    "start_time": "2024-01-19T08:55:43.082Z"
   },
   {
    "duration": 21,
    "start_time": "2024-01-19T08:55:49.193Z"
   },
   {
    "duration": 14,
    "start_time": "2024-01-19T08:56:15.768Z"
   },
   {
    "duration": 92,
    "start_time": "2024-01-19T08:56:39.130Z"
   },
   {
    "duration": 21,
    "start_time": "2024-01-19T08:57:23.049Z"
   },
   {
    "duration": 25,
    "start_time": "2024-01-19T08:58:16.351Z"
   },
   {
    "duration": 21,
    "start_time": "2024-01-19T08:59:38.579Z"
   },
   {
    "duration": 22,
    "start_time": "2024-01-19T09:05:49.245Z"
   },
   {
    "duration": 481,
    "start_time": "2024-01-19T09:06:03.204Z"
   },
   {
    "duration": 23,
    "start_time": "2024-01-19T09:06:03.687Z"
   },
   {
    "duration": 32,
    "start_time": "2024-01-19T09:06:03.711Z"
   },
   {
    "duration": 36,
    "start_time": "2024-01-19T09:06:03.745Z"
   },
   {
    "duration": 64,
    "start_time": "2024-01-19T09:06:03.783Z"
   },
   {
    "duration": 4,
    "start_time": "2024-01-19T09:06:03.849Z"
   },
   {
    "duration": 36,
    "start_time": "2024-01-19T09:06:03.854Z"
   },
   {
    "duration": 24,
    "start_time": "2024-01-19T09:06:03.892Z"
   },
   {
    "duration": 44,
    "start_time": "2024-01-19T09:06:03.917Z"
   },
   {
    "duration": 29,
    "start_time": "2024-01-19T09:06:03.964Z"
   },
   {
    "duration": 66,
    "start_time": "2024-01-19T09:06:03.995Z"
   },
   {
    "duration": 12,
    "start_time": "2024-01-19T09:06:04.063Z"
   },
   {
    "duration": 18,
    "start_time": "2024-01-19T09:06:04.077Z"
   },
   {
    "duration": 56,
    "start_time": "2024-01-19T09:06:04.096Z"
   },
   {
    "duration": 58,
    "start_time": "2024-01-19T09:06:04.153Z"
   },
   {
    "duration": 35,
    "start_time": "2024-01-19T09:06:04.212Z"
   },
   {
    "duration": 29,
    "start_time": "2024-01-19T09:06:04.248Z"
   },
   {
    "duration": 34,
    "start_time": "2024-01-19T09:06:04.279Z"
   },
   {
    "duration": 13,
    "start_time": "2024-01-19T09:06:04.314Z"
   },
   {
    "duration": 21,
    "start_time": "2024-01-19T09:06:04.329Z"
   },
   {
    "duration": 29,
    "start_time": "2024-01-19T09:06:04.352Z"
   },
   {
    "duration": 25,
    "start_time": "2024-01-19T09:06:09.932Z"
   },
   {
    "duration": 20,
    "start_time": "2024-01-19T09:07:10.128Z"
   },
   {
    "duration": 21,
    "start_time": "2024-01-19T09:16:45.495Z"
   },
   {
    "duration": 25,
    "start_time": "2024-01-19T09:23:52.029Z"
   },
   {
    "duration": 449,
    "start_time": "2024-01-19T09:58:46.633Z"
   },
   {
    "duration": 34,
    "start_time": "2024-01-19T09:58:47.084Z"
   },
   {
    "duration": 16,
    "start_time": "2024-01-19T09:58:47.120Z"
   },
   {
    "duration": 10,
    "start_time": "2024-01-19T09:58:47.138Z"
   },
   {
    "duration": 12,
    "start_time": "2024-01-19T09:58:47.150Z"
   },
   {
    "duration": 0,
    "start_time": "2024-01-19T09:58:47.181Z"
   },
   {
    "duration": 0,
    "start_time": "2024-01-19T09:58:47.182Z"
   },
   {
    "duration": 0,
    "start_time": "2024-01-19T09:58:47.184Z"
   },
   {
    "duration": 0,
    "start_time": "2024-01-19T09:58:47.185Z"
   },
   {
    "duration": 0,
    "start_time": "2024-01-19T09:58:47.186Z"
   },
   {
    "duration": 0,
    "start_time": "2024-01-19T09:58:47.188Z"
   },
   {
    "duration": 0,
    "start_time": "2024-01-19T09:58:47.189Z"
   },
   {
    "duration": 0,
    "start_time": "2024-01-19T09:58:47.191Z"
   },
   {
    "duration": 0,
    "start_time": "2024-01-19T09:58:47.193Z"
   },
   {
    "duration": 0,
    "start_time": "2024-01-19T09:58:47.195Z"
   },
   {
    "duration": 0,
    "start_time": "2024-01-19T09:58:47.196Z"
   },
   {
    "duration": 0,
    "start_time": "2024-01-19T09:58:47.197Z"
   },
   {
    "duration": 0,
    "start_time": "2024-01-19T09:58:47.199Z"
   },
   {
    "duration": 0,
    "start_time": "2024-01-19T09:58:47.200Z"
   },
   {
    "duration": 1,
    "start_time": "2024-01-19T09:58:47.201Z"
   },
   {
    "duration": 0,
    "start_time": "2024-01-19T09:58:47.203Z"
   },
   {
    "duration": 0,
    "start_time": "2024-01-19T09:58:47.204Z"
   },
   {
    "duration": 0,
    "start_time": "2024-01-19T09:58:47.206Z"
   },
   {
    "duration": 0,
    "start_time": "2024-01-19T09:58:47.207Z"
   },
   {
    "duration": 0,
    "start_time": "2024-01-19T09:58:47.208Z"
   },
   {
    "duration": 74,
    "start_time": "2024-01-19T09:59:04.855Z"
   },
   {
    "duration": 16,
    "start_time": "2024-01-19T09:59:04.931Z"
   },
   {
    "duration": 35,
    "start_time": "2024-01-19T09:59:04.949Z"
   },
   {
    "duration": 14,
    "start_time": "2024-01-19T09:59:04.987Z"
   },
   {
    "duration": 29,
    "start_time": "2024-01-19T09:59:05.002Z"
   },
   {
    "duration": 0,
    "start_time": "2024-01-19T09:59:05.033Z"
   },
   {
    "duration": 0,
    "start_time": "2024-01-19T09:59:05.035Z"
   },
   {
    "duration": 0,
    "start_time": "2024-01-19T09:59:05.036Z"
   },
   {
    "duration": 0,
    "start_time": "2024-01-19T09:59:05.038Z"
   },
   {
    "duration": 0,
    "start_time": "2024-01-19T09:59:05.039Z"
   },
   {
    "duration": 0,
    "start_time": "2024-01-19T09:59:05.041Z"
   },
   {
    "duration": 0,
    "start_time": "2024-01-19T09:59:05.042Z"
   },
   {
    "duration": 0,
    "start_time": "2024-01-19T09:59:05.043Z"
   },
   {
    "duration": 0,
    "start_time": "2024-01-19T09:59:05.045Z"
   },
   {
    "duration": 0,
    "start_time": "2024-01-19T09:59:05.046Z"
   },
   {
    "duration": 0,
    "start_time": "2024-01-19T09:59:05.048Z"
   },
   {
    "duration": 0,
    "start_time": "2024-01-19T09:59:05.049Z"
   },
   {
    "duration": 0,
    "start_time": "2024-01-19T09:59:05.051Z"
   },
   {
    "duration": 0,
    "start_time": "2024-01-19T09:59:05.052Z"
   },
   {
    "duration": 0,
    "start_time": "2024-01-19T09:59:05.054Z"
   },
   {
    "duration": 0,
    "start_time": "2024-01-19T09:59:05.055Z"
   },
   {
    "duration": 0,
    "start_time": "2024-01-19T09:59:05.056Z"
   },
   {
    "duration": 0,
    "start_time": "2024-01-19T09:59:05.080Z"
   },
   {
    "duration": 0,
    "start_time": "2024-01-19T09:59:05.081Z"
   },
   {
    "duration": 0,
    "start_time": "2024-01-19T09:59:05.083Z"
   },
   {
    "duration": 487,
    "start_time": "2024-01-19T11:02:11.107Z"
   },
   {
    "duration": 30,
    "start_time": "2024-01-19T11:02:11.596Z"
   },
   {
    "duration": 32,
    "start_time": "2024-01-19T11:02:11.628Z"
   },
   {
    "duration": 19,
    "start_time": "2024-01-19T11:02:11.662Z"
   },
   {
    "duration": 6,
    "start_time": "2024-01-19T11:02:11.683Z"
   },
   {
    "duration": 0,
    "start_time": "2024-01-19T11:02:11.691Z"
   },
   {
    "duration": 0,
    "start_time": "2024-01-19T11:02:11.693Z"
   },
   {
    "duration": 0,
    "start_time": "2024-01-19T11:02:11.694Z"
   },
   {
    "duration": 0,
    "start_time": "2024-01-19T11:02:11.696Z"
   },
   {
    "duration": 0,
    "start_time": "2024-01-19T11:02:11.697Z"
   },
   {
    "duration": 0,
    "start_time": "2024-01-19T11:02:11.698Z"
   },
   {
    "duration": 0,
    "start_time": "2024-01-19T11:02:11.700Z"
   },
   {
    "duration": 0,
    "start_time": "2024-01-19T11:02:11.702Z"
   },
   {
    "duration": 0,
    "start_time": "2024-01-19T11:02:11.704Z"
   },
   {
    "duration": 0,
    "start_time": "2024-01-19T11:02:11.706Z"
   },
   {
    "duration": 0,
    "start_time": "2024-01-19T11:02:11.706Z"
   },
   {
    "duration": 0,
    "start_time": "2024-01-19T11:02:11.708Z"
   },
   {
    "duration": 0,
    "start_time": "2024-01-19T11:02:11.709Z"
   },
   {
    "duration": 0,
    "start_time": "2024-01-19T11:02:11.710Z"
   },
   {
    "duration": 0,
    "start_time": "2024-01-19T11:02:11.711Z"
   },
   {
    "duration": 0,
    "start_time": "2024-01-19T11:02:11.712Z"
   },
   {
    "duration": 0,
    "start_time": "2024-01-19T11:02:11.713Z"
   },
   {
    "duration": 0,
    "start_time": "2024-01-19T11:02:11.713Z"
   },
   {
    "duration": 0,
    "start_time": "2024-01-19T11:02:11.714Z"
   },
   {
    "duration": 0,
    "start_time": "2024-01-19T11:02:11.715Z"
   },
   {
    "duration": 77,
    "start_time": "2024-01-19T11:02:19.945Z"
   },
   {
    "duration": 16,
    "start_time": "2024-01-19T11:02:20.024Z"
   },
   {
    "duration": 18,
    "start_time": "2024-01-19T11:02:20.042Z"
   },
   {
    "duration": 28,
    "start_time": "2024-01-19T11:02:20.062Z"
   },
   {
    "duration": 37,
    "start_time": "2024-01-19T11:02:20.091Z"
   },
   {
    "duration": 0,
    "start_time": "2024-01-19T11:02:20.130Z"
   },
   {
    "duration": 0,
    "start_time": "2024-01-19T11:02:20.131Z"
   },
   {
    "duration": 0,
    "start_time": "2024-01-19T11:02:20.133Z"
   },
   {
    "duration": 0,
    "start_time": "2024-01-19T11:02:20.134Z"
   },
   {
    "duration": 0,
    "start_time": "2024-01-19T11:02:20.136Z"
   },
   {
    "duration": 0,
    "start_time": "2024-01-19T11:02:20.137Z"
   },
   {
    "duration": 0,
    "start_time": "2024-01-19T11:02:20.139Z"
   },
   {
    "duration": 0,
    "start_time": "2024-01-19T11:02:20.140Z"
   },
   {
    "duration": 0,
    "start_time": "2024-01-19T11:02:20.142Z"
   },
   {
    "duration": 0,
    "start_time": "2024-01-19T11:02:20.143Z"
   },
   {
    "duration": 0,
    "start_time": "2024-01-19T11:02:20.145Z"
   },
   {
    "duration": 0,
    "start_time": "2024-01-19T11:02:20.146Z"
   },
   {
    "duration": 0,
    "start_time": "2024-01-19T11:02:20.148Z"
   },
   {
    "duration": 0,
    "start_time": "2024-01-19T11:02:20.150Z"
   },
   {
    "duration": 0,
    "start_time": "2024-01-19T11:02:20.151Z"
   },
   {
    "duration": 1,
    "start_time": "2024-01-19T11:02:20.152Z"
   },
   {
    "duration": 0,
    "start_time": "2024-01-19T11:02:20.154Z"
   },
   {
    "duration": 0,
    "start_time": "2024-01-19T11:02:20.156Z"
   },
   {
    "duration": 0,
    "start_time": "2024-01-19T11:02:20.157Z"
   },
   {
    "duration": 0,
    "start_time": "2024-01-19T11:02:20.179Z"
   },
   {
    "duration": 78,
    "start_time": "2024-01-19T11:02:28.796Z"
   },
   {
    "duration": 16,
    "start_time": "2024-01-19T11:02:28.875Z"
   },
   {
    "duration": 19,
    "start_time": "2024-01-19T11:02:28.893Z"
   },
   {
    "duration": 11,
    "start_time": "2024-01-19T11:02:28.913Z"
   },
   {
    "duration": 3,
    "start_time": "2024-01-19T11:02:28.927Z"
   },
   {
    "duration": 0,
    "start_time": "2024-01-19T11:02:28.932Z"
   },
   {
    "duration": 0,
    "start_time": "2024-01-19T11:02:28.933Z"
   },
   {
    "duration": 0,
    "start_time": "2024-01-19T11:02:28.935Z"
   },
   {
    "duration": 0,
    "start_time": "2024-01-19T11:02:28.936Z"
   },
   {
    "duration": 0,
    "start_time": "2024-01-19T11:02:28.938Z"
   },
   {
    "duration": 0,
    "start_time": "2024-01-19T11:02:28.939Z"
   },
   {
    "duration": 0,
    "start_time": "2024-01-19T11:02:28.940Z"
   },
   {
    "duration": 0,
    "start_time": "2024-01-19T11:02:28.941Z"
   },
   {
    "duration": 0,
    "start_time": "2024-01-19T11:02:28.942Z"
   },
   {
    "duration": 0,
    "start_time": "2024-01-19T11:02:28.944Z"
   },
   {
    "duration": 0,
    "start_time": "2024-01-19T11:02:28.980Z"
   },
   {
    "duration": 0,
    "start_time": "2024-01-19T11:02:28.982Z"
   },
   {
    "duration": 0,
    "start_time": "2024-01-19T11:02:28.983Z"
   },
   {
    "duration": 0,
    "start_time": "2024-01-19T11:02:28.984Z"
   },
   {
    "duration": 0,
    "start_time": "2024-01-19T11:02:28.985Z"
   },
   {
    "duration": 0,
    "start_time": "2024-01-19T11:02:28.987Z"
   },
   {
    "duration": 0,
    "start_time": "2024-01-19T11:02:28.988Z"
   },
   {
    "duration": 0,
    "start_time": "2024-01-19T11:02:28.989Z"
   },
   {
    "duration": 0,
    "start_time": "2024-01-19T11:02:28.990Z"
   },
   {
    "duration": 78,
    "start_time": "2024-01-19T11:02:39.549Z"
   },
   {
    "duration": 462,
    "start_time": "2024-01-19T11:02:56.625Z"
   },
   {
    "duration": 22,
    "start_time": "2024-01-19T11:02:57.089Z"
   },
   {
    "duration": 16,
    "start_time": "2024-01-19T11:02:57.113Z"
   },
   {
    "duration": 10,
    "start_time": "2024-01-19T11:02:57.131Z"
   },
   {
    "duration": 3,
    "start_time": "2024-01-19T11:02:57.143Z"
   },
   {
    "duration": 0,
    "start_time": "2024-01-19T11:02:57.148Z"
   },
   {
    "duration": 0,
    "start_time": "2024-01-19T11:02:57.149Z"
   },
   {
    "duration": 0,
    "start_time": "2024-01-19T11:02:57.150Z"
   },
   {
    "duration": 0,
    "start_time": "2024-01-19T11:02:57.180Z"
   },
   {
    "duration": 0,
    "start_time": "2024-01-19T11:02:57.182Z"
   },
   {
    "duration": 0,
    "start_time": "2024-01-19T11:02:57.183Z"
   },
   {
    "duration": 0,
    "start_time": "2024-01-19T11:02:57.184Z"
   },
   {
    "duration": 0,
    "start_time": "2024-01-19T11:02:57.185Z"
   },
   {
    "duration": 0,
    "start_time": "2024-01-19T11:02:57.187Z"
   },
   {
    "duration": 0,
    "start_time": "2024-01-19T11:02:57.188Z"
   },
   {
    "duration": 0,
    "start_time": "2024-01-19T11:02:57.189Z"
   },
   {
    "duration": 0,
    "start_time": "2024-01-19T11:02:57.190Z"
   },
   {
    "duration": 0,
    "start_time": "2024-01-19T11:02:57.191Z"
   },
   {
    "duration": 0,
    "start_time": "2024-01-19T11:02:57.192Z"
   },
   {
    "duration": 0,
    "start_time": "2024-01-19T11:02:57.193Z"
   },
   {
    "duration": 0,
    "start_time": "2024-01-19T11:02:57.194Z"
   },
   {
    "duration": 0,
    "start_time": "2024-01-19T11:02:57.195Z"
   },
   {
    "duration": 0,
    "start_time": "2024-01-19T11:02:57.196Z"
   },
   {
    "duration": 0,
    "start_time": "2024-01-19T11:02:57.197Z"
   },
   {
    "duration": 3,
    "start_time": "2024-01-19T11:03:38.206Z"
   },
   {
    "duration": 14,
    "start_time": "2024-01-19T11:04:00.719Z"
   },
   {
    "duration": 544,
    "start_time": "2024-01-19T11:04:19.761Z"
   },
   {
    "duration": 24,
    "start_time": "2024-01-19T11:04:20.307Z"
   },
   {
    "duration": 82,
    "start_time": "2024-01-19T11:04:20.333Z"
   },
   {
    "duration": 40,
    "start_time": "2024-01-19T11:04:20.418Z"
   },
   {
    "duration": 15,
    "start_time": "2024-01-19T11:04:20.461Z"
   },
   {
    "duration": 9,
    "start_time": "2024-01-19T11:04:20.477Z"
   },
   {
    "duration": 11,
    "start_time": "2024-01-19T11:04:20.488Z"
   },
   {
    "duration": 4,
    "start_time": "2024-01-19T11:04:20.501Z"
   },
   {
    "duration": 14,
    "start_time": "2024-01-19T11:04:20.507Z"
   },
   {
    "duration": 11,
    "start_time": "2024-01-19T11:04:20.525Z"
   },
   {
    "duration": 70,
    "start_time": "2024-01-19T11:04:20.538Z"
   },
   {
    "duration": 12,
    "start_time": "2024-01-19T11:04:20.610Z"
   },
   {
    "duration": 90,
    "start_time": "2024-01-19T11:04:20.624Z"
   },
   {
    "duration": 0,
    "start_time": "2024-01-19T11:04:20.716Z"
   },
   {
    "duration": 0,
    "start_time": "2024-01-19T11:04:20.717Z"
   },
   {
    "duration": 0,
    "start_time": "2024-01-19T11:04:20.719Z"
   },
   {
    "duration": 0,
    "start_time": "2024-01-19T11:04:20.721Z"
   },
   {
    "duration": 0,
    "start_time": "2024-01-19T11:04:20.722Z"
   },
   {
    "duration": 0,
    "start_time": "2024-01-19T11:04:20.723Z"
   },
   {
    "duration": 0,
    "start_time": "2024-01-19T11:04:20.725Z"
   },
   {
    "duration": 0,
    "start_time": "2024-01-19T11:04:20.726Z"
   },
   {
    "duration": 0,
    "start_time": "2024-01-19T11:04:20.727Z"
   },
   {
    "duration": 0,
    "start_time": "2024-01-19T11:04:20.728Z"
   },
   {
    "duration": 0,
    "start_time": "2024-01-19T11:04:20.729Z"
   },
   {
    "duration": 0,
    "start_time": "2024-01-19T11:04:20.731Z"
   },
   {
    "duration": 11,
    "start_time": "2024-01-19T11:05:34.753Z"
   },
   {
    "duration": 11,
    "start_time": "2024-01-19T11:05:43.455Z"
   },
   {
    "duration": 438,
    "start_time": "2024-01-19T11:06:38.927Z"
   },
   {
    "duration": 23,
    "start_time": "2024-01-19T11:06:41.296Z"
   },
   {
    "duration": 17,
    "start_time": "2024-01-19T11:06:45.422Z"
   },
   {
    "duration": 12,
    "start_time": "2024-01-19T11:06:48.686Z"
   },
   {
    "duration": 4,
    "start_time": "2024-01-19T11:07:33.775Z"
   },
   {
    "duration": 42,
    "start_time": "2024-01-19T11:08:43.745Z"
   },
   {
    "duration": 4,
    "start_time": "2024-01-19T11:08:53.747Z"
   },
   {
    "duration": 8,
    "start_time": "2024-01-19T11:08:56.288Z"
   },
   {
    "duration": 4,
    "start_time": "2024-01-19T11:08:59.759Z"
   },
   {
    "duration": 9,
    "start_time": "2024-01-19T11:09:02.688Z"
   },
   {
    "duration": 4,
    "start_time": "2024-01-19T11:09:05.358Z"
   },
   {
    "duration": 40,
    "start_time": "2024-01-19T11:09:09.023Z"
   },
   {
    "duration": 17,
    "start_time": "2024-01-19T11:09:11.791Z"
   },
   {
    "duration": 4,
    "start_time": "2024-01-19T11:09:16.477Z"
   },
   {
    "duration": 14,
    "start_time": "2024-01-19T11:09:19.519Z"
   },
   {
    "duration": 508,
    "start_time": "2024-01-19T11:09:44.355Z"
   },
   {
    "duration": 22,
    "start_time": "2024-01-19T11:09:44.865Z"
   },
   {
    "duration": 14,
    "start_time": "2024-01-19T11:09:44.889Z"
   },
   {
    "duration": 32,
    "start_time": "2024-01-19T11:09:44.905Z"
   },
   {
    "duration": 45,
    "start_time": "2024-01-19T11:09:44.938Z"
   },
   {
    "duration": 2,
    "start_time": "2024-01-19T11:09:44.985Z"
   },
   {
    "duration": 19,
    "start_time": "2024-01-19T11:09:44.989Z"
   },
   {
    "duration": 44,
    "start_time": "2024-01-19T11:09:45.009Z"
   },
   {
    "duration": 47,
    "start_time": "2024-01-19T11:09:45.055Z"
   },
   {
    "duration": 57,
    "start_time": "2024-01-19T11:09:45.106Z"
   },
   {
    "duration": 51,
    "start_time": "2024-01-19T11:09:45.164Z"
   },
   {
    "duration": 10,
    "start_time": "2024-01-19T11:09:45.217Z"
   },
   {
    "duration": 14,
    "start_time": "2024-01-19T11:09:45.228Z"
   },
   {
    "duration": 21,
    "start_time": "2024-01-19T11:09:45.244Z"
   },
   {
    "duration": 35,
    "start_time": "2024-01-19T11:09:45.267Z"
   },
   {
    "duration": 17,
    "start_time": "2024-01-19T11:09:45.303Z"
   },
   {
    "duration": 4,
    "start_time": "2024-01-19T11:09:45.322Z"
   },
   {
    "duration": 27,
    "start_time": "2024-01-19T11:09:45.327Z"
   },
   {
    "duration": 10,
    "start_time": "2024-01-19T11:09:45.355Z"
   },
   {
    "duration": 20,
    "start_time": "2024-01-19T11:09:45.366Z"
   },
   {
    "duration": 24,
    "start_time": "2024-01-19T11:09:45.387Z"
   },
   {
    "duration": 32,
    "start_time": "2024-01-19T11:09:45.413Z"
   },
   {
    "duration": 19,
    "start_time": "2024-01-19T11:09:45.447Z"
   },
   {
    "duration": 24,
    "start_time": "2024-01-19T11:09:45.468Z"
   },
   {
    "duration": 20,
    "start_time": "2024-01-19T11:09:45.494Z"
   },
   {
    "duration": 458,
    "start_time": "2024-01-19T11:12:26.524Z"
   },
   {
    "duration": 22,
    "start_time": "2024-01-19T11:12:26.984Z"
   },
   {
    "duration": 35,
    "start_time": "2024-01-19T11:12:27.008Z"
   },
   {
    "duration": 12,
    "start_time": "2024-01-19T11:12:27.045Z"
   },
   {
    "duration": 64,
    "start_time": "2024-01-19T11:12:27.059Z"
   },
   {
    "duration": 3,
    "start_time": "2024-01-19T11:12:27.125Z"
   },
   {
    "duration": 16,
    "start_time": "2024-01-19T11:12:27.130Z"
   },
   {
    "duration": 4,
    "start_time": "2024-01-19T11:12:27.147Z"
   },
   {
    "duration": 24,
    "start_time": "2024-01-19T11:12:27.153Z"
   },
   {
    "duration": 11,
    "start_time": "2024-01-19T11:12:27.181Z"
   },
   {
    "duration": 48,
    "start_time": "2024-01-19T11:12:27.194Z"
   },
   {
    "duration": 11,
    "start_time": "2024-01-19T11:12:27.243Z"
   },
   {
    "duration": 12,
    "start_time": "2024-01-19T11:12:27.256Z"
   },
   {
    "duration": 21,
    "start_time": "2024-01-19T11:12:27.270Z"
   },
   {
    "duration": 28,
    "start_time": "2024-01-19T11:12:27.293Z"
   },
   {
    "duration": 18,
    "start_time": "2024-01-19T11:12:27.322Z"
   },
   {
    "duration": 5,
    "start_time": "2024-01-19T11:12:27.342Z"
   },
   {
    "duration": 37,
    "start_time": "2024-01-19T11:12:27.348Z"
   },
   {
    "duration": 18,
    "start_time": "2024-01-19T11:12:27.387Z"
   },
   {
    "duration": 6,
    "start_time": "2024-01-19T11:12:27.406Z"
   },
   {
    "duration": 23,
    "start_time": "2024-01-19T11:12:27.414Z"
   },
   {
    "duration": 25,
    "start_time": "2024-01-19T11:12:27.439Z"
   },
   {
    "duration": 20,
    "start_time": "2024-01-19T11:12:27.465Z"
   },
   {
    "duration": 19,
    "start_time": "2024-01-19T11:12:27.487Z"
   },
   {
    "duration": 20,
    "start_time": "2024-01-19T11:12:27.508Z"
   },
   {
    "duration": 560,
    "start_time": "2024-01-19T14:18:08.224Z"
   },
   {
    "duration": 21,
    "start_time": "2024-01-19T14:18:08.786Z"
   },
   {
    "duration": 29,
    "start_time": "2024-01-19T14:18:08.810Z"
   },
   {
    "duration": 10,
    "start_time": "2024-01-19T14:18:08.841Z"
   },
   {
    "duration": 61,
    "start_time": "2024-01-19T14:18:08.852Z"
   },
   {
    "duration": 3,
    "start_time": "2024-01-19T14:18:08.915Z"
   },
   {
    "duration": 34,
    "start_time": "2024-01-19T14:18:08.920Z"
   },
   {
    "duration": 24,
    "start_time": "2024-01-19T14:18:08.956Z"
   },
   {
    "duration": 27,
    "start_time": "2024-01-19T14:18:08.981Z"
   },
   {
    "duration": 20,
    "start_time": "2024-01-19T14:18:09.012Z"
   },
   {
    "duration": 44,
    "start_time": "2024-01-19T14:18:09.034Z"
   },
   {
    "duration": 10,
    "start_time": "2024-01-19T14:18:09.079Z"
   },
   {
    "duration": 12,
    "start_time": "2024-01-19T14:18:09.090Z"
   },
   {
    "duration": 26,
    "start_time": "2024-01-19T14:18:09.103Z"
   },
   {
    "duration": 32,
    "start_time": "2024-01-19T14:18:09.131Z"
   },
   {
    "duration": 20,
    "start_time": "2024-01-19T14:18:09.165Z"
   },
   {
    "duration": 11,
    "start_time": "2024-01-19T14:18:09.186Z"
   },
   {
    "duration": 23,
    "start_time": "2024-01-19T14:18:09.198Z"
   },
   {
    "duration": 14,
    "start_time": "2024-01-19T14:18:09.222Z"
   },
   {
    "duration": 12,
    "start_time": "2024-01-19T14:18:09.238Z"
   },
   {
    "duration": 44,
    "start_time": "2024-01-19T14:18:09.252Z"
   },
   {
    "duration": 37,
    "start_time": "2024-01-19T14:18:09.298Z"
   },
   {
    "duration": 20,
    "start_time": "2024-01-19T14:18:09.337Z"
   },
   {
    "duration": 19,
    "start_time": "2024-01-19T14:18:09.358Z"
   },
   {
    "duration": 19,
    "start_time": "2024-01-19T14:18:09.379Z"
   },
   {
    "duration": 75,
    "start_time": "2024-01-19T14:59:46.005Z"
   },
   {
    "duration": 51,
    "start_time": "2024-01-19T20:39:03.079Z"
   },
   {
    "duration": 8,
    "start_time": "2024-01-19T20:39:53.148Z"
   },
   {
    "duration": 7,
    "start_time": "2024-01-19T20:40:06.779Z"
   },
   {
    "duration": 687,
    "start_time": "2024-01-19T20:40:17.047Z"
   },
   {
    "duration": 22,
    "start_time": "2024-01-19T20:40:17.736Z"
   },
   {
    "duration": 26,
    "start_time": "2024-01-19T20:40:17.760Z"
   },
   {
    "duration": 19,
    "start_time": "2024-01-19T20:40:17.789Z"
   },
   {
    "duration": 50,
    "start_time": "2024-01-19T20:40:17.809Z"
   },
   {
    "duration": 3,
    "start_time": "2024-01-19T20:40:17.861Z"
   },
   {
    "duration": 11,
    "start_time": "2024-01-19T20:40:17.866Z"
   },
   {
    "duration": 4,
    "start_time": "2024-01-19T20:40:17.879Z"
   },
   {
    "duration": 9,
    "start_time": "2024-01-19T20:40:17.885Z"
   },
   {
    "duration": 27,
    "start_time": "2024-01-19T20:40:17.897Z"
   },
   {
    "duration": 46,
    "start_time": "2024-01-19T20:40:17.925Z"
   },
   {
    "duration": 12,
    "start_time": "2024-01-19T20:40:17.972Z"
   },
   {
    "duration": 20,
    "start_time": "2024-01-19T20:40:17.986Z"
   },
   {
    "duration": 16,
    "start_time": "2024-01-19T20:40:18.008Z"
   },
   {
    "duration": 30,
    "start_time": "2024-01-19T20:40:18.026Z"
   },
   {
    "duration": 16,
    "start_time": "2024-01-19T20:40:18.058Z"
   },
   {
    "duration": 4,
    "start_time": "2024-01-19T20:40:18.076Z"
   },
   {
    "duration": 45,
    "start_time": "2024-01-19T20:40:18.081Z"
   },
   {
    "duration": 18,
    "start_time": "2024-01-19T20:40:18.127Z"
   },
   {
    "duration": 4,
    "start_time": "2024-01-19T20:40:18.146Z"
   },
   {
    "duration": 13,
    "start_time": "2024-01-19T20:40:18.152Z"
   },
   {
    "duration": 19,
    "start_time": "2024-01-19T20:40:47.593Z"
   },
   {
    "duration": 25,
    "start_time": "2024-01-19T20:55:17.218Z"
   },
   {
    "duration": 21,
    "start_time": "2024-01-19T21:05:32.076Z"
   },
   {
    "duration": 22,
    "start_time": "2024-01-19T21:06:50.416Z"
   },
   {
    "duration": 71,
    "start_time": "2024-01-19T21:13:27.289Z"
   },
   {
    "duration": 26,
    "start_time": "2024-01-19T21:13:36.861Z"
   },
   {
    "duration": 75,
    "start_time": "2024-01-19T21:43:35.127Z"
   },
   {
    "duration": 91,
    "start_time": "2024-01-19T21:43:56.981Z"
   },
   {
    "duration": 21,
    "start_time": "2024-01-19T21:52:27.446Z"
   },
   {
    "duration": 78,
    "start_time": "2024-01-19T21:59:59.193Z"
   },
   {
    "duration": 15,
    "start_time": "2024-01-19T21:59:59.272Z"
   },
   {
    "duration": 17,
    "start_time": "2024-01-19T21:59:59.289Z"
   },
   {
    "duration": 25,
    "start_time": "2024-01-19T21:59:59.308Z"
   },
   {
    "duration": 39,
    "start_time": "2024-01-19T21:59:59.334Z"
   },
   {
    "duration": 3,
    "start_time": "2024-01-19T21:59:59.374Z"
   },
   {
    "duration": 14,
    "start_time": "2024-01-19T21:59:59.378Z"
   },
   {
    "duration": 15,
    "start_time": "2024-01-19T21:59:59.393Z"
   },
   {
    "duration": 14,
    "start_time": "2024-01-19T21:59:59.410Z"
   },
   {
    "duration": 8,
    "start_time": "2024-01-19T21:59:59.427Z"
   },
   {
    "duration": 52,
    "start_time": "2024-01-19T21:59:59.437Z"
   },
   {
    "duration": 10,
    "start_time": "2024-01-19T21:59:59.491Z"
   },
   {
    "duration": 10,
    "start_time": "2024-01-19T21:59:59.503Z"
   },
   {
    "duration": 14,
    "start_time": "2024-01-19T21:59:59.515Z"
   },
   {
    "duration": 17,
    "start_time": "2024-01-19T21:59:59.530Z"
   },
   {
    "duration": 15,
    "start_time": "2024-01-19T21:59:59.549Z"
   },
   {
    "duration": 3,
    "start_time": "2024-01-19T21:59:59.566Z"
   },
   {
    "duration": 13,
    "start_time": "2024-01-19T21:59:59.570Z"
   },
   {
    "duration": 8,
    "start_time": "2024-01-19T21:59:59.585Z"
   },
   {
    "duration": 9,
    "start_time": "2024-01-19T21:59:59.594Z"
   },
   {
    "duration": 8,
    "start_time": "2024-01-19T21:59:59.621Z"
   },
   {
    "duration": 24,
    "start_time": "2024-01-19T21:59:59.630Z"
   },
   {
    "duration": 20,
    "start_time": "2024-01-19T21:59:59.655Z"
   },
   {
    "duration": 74,
    "start_time": "2024-01-19T22:10:40.711Z"
   },
   {
    "duration": 82,
    "start_time": "2024-01-19T22:12:06.837Z"
   },
   {
    "duration": 71,
    "start_time": "2024-01-19T22:12:18.517Z"
   },
   {
    "duration": 18,
    "start_time": "2024-01-19T22:16:54.483Z"
   },
   {
    "duration": 20,
    "start_time": "2024-01-19T22:17:47.510Z"
   },
   {
    "duration": 77,
    "start_time": "2024-01-19T22:18:39.353Z"
   },
   {
    "duration": 23,
    "start_time": "2024-01-19T22:29:19.291Z"
   },
   {
    "duration": 112,
    "start_time": "2024-01-19T22:33:51.628Z"
   },
   {
    "duration": 26,
    "start_time": "2024-01-19T22:35:22.765Z"
   },
   {
    "duration": 21,
    "start_time": "2024-01-19T22:35:49.774Z"
   },
   {
    "duration": 22,
    "start_time": "2024-01-19T22:40:19.784Z"
   },
   {
    "duration": 22,
    "start_time": "2024-01-19T23:26:05.578Z"
   },
   {
    "duration": 21,
    "start_time": "2024-01-19T23:27:08.866Z"
   },
   {
    "duration": 464,
    "start_time": "2024-01-19T23:27:55.144Z"
   },
   {
    "duration": 23,
    "start_time": "2024-01-19T23:27:55.610Z"
   },
   {
    "duration": 32,
    "start_time": "2024-01-19T23:27:55.634Z"
   },
   {
    "duration": 11,
    "start_time": "2024-01-19T23:27:55.669Z"
   },
   {
    "duration": 42,
    "start_time": "2024-01-19T23:27:55.682Z"
   },
   {
    "duration": 3,
    "start_time": "2024-01-19T23:27:55.726Z"
   },
   {
    "duration": 17,
    "start_time": "2024-01-19T23:27:55.730Z"
   },
   {
    "duration": 28,
    "start_time": "2024-01-19T23:27:55.749Z"
   },
   {
    "duration": 42,
    "start_time": "2024-01-19T23:27:55.778Z"
   },
   {
    "duration": 23,
    "start_time": "2024-01-19T23:27:55.822Z"
   },
   {
    "duration": 40,
    "start_time": "2024-01-19T23:27:55.847Z"
   },
   {
    "duration": 11,
    "start_time": "2024-01-19T23:27:55.889Z"
   },
   {
    "duration": 25,
    "start_time": "2024-01-19T23:27:55.902Z"
   },
   {
    "duration": 25,
    "start_time": "2024-01-19T23:27:55.929Z"
   },
   {
    "duration": 21,
    "start_time": "2024-01-19T23:27:55.956Z"
   },
   {
    "duration": 18,
    "start_time": "2024-01-19T23:27:55.979Z"
   },
   {
    "duration": 5,
    "start_time": "2024-01-19T23:27:55.998Z"
   },
   {
    "duration": 20,
    "start_time": "2024-01-19T23:27:56.005Z"
   },
   {
    "duration": 12,
    "start_time": "2024-01-19T23:27:56.026Z"
   },
   {
    "duration": 5,
    "start_time": "2024-01-19T23:27:56.040Z"
   },
   {
    "duration": 18,
    "start_time": "2024-01-19T23:27:56.047Z"
   },
   {
    "duration": 22,
    "start_time": "2024-01-19T23:27:56.067Z"
   },
   {
    "duration": 20,
    "start_time": "2024-01-19T23:28:10.978Z"
   },
   {
    "duration": 22,
    "start_time": "2024-01-19T23:28:47.617Z"
   },
   {
    "duration": 21,
    "start_time": "2024-01-19T23:29:13.393Z"
   },
   {
    "duration": 20,
    "start_time": "2024-01-19T23:30:42.132Z"
   },
   {
    "duration": 423,
    "start_time": "2024-01-19T23:37:06.053Z"
   },
   {
    "duration": 31,
    "start_time": "2024-01-19T23:37:36.390Z"
   },
   {
    "duration": 379,
    "start_time": "2024-01-19T23:39:14.519Z"
   },
   {
    "duration": 21,
    "start_time": "2024-01-19T23:40:30.470Z"
   },
   {
    "duration": 22,
    "start_time": "2024-01-19T23:42:42.153Z"
   },
   {
    "duration": 518,
    "start_time": "2024-01-19T23:43:04.183Z"
   },
   {
    "duration": 22,
    "start_time": "2024-01-19T23:43:04.703Z"
   },
   {
    "duration": 15,
    "start_time": "2024-01-19T23:43:04.727Z"
   },
   {
    "duration": 10,
    "start_time": "2024-01-19T23:43:04.743Z"
   },
   {
    "duration": 37,
    "start_time": "2024-01-19T23:43:04.755Z"
   },
   {
    "duration": 3,
    "start_time": "2024-01-19T23:43:04.793Z"
   },
   {
    "duration": 30,
    "start_time": "2024-01-19T23:43:04.797Z"
   },
   {
    "duration": 12,
    "start_time": "2024-01-19T23:43:04.828Z"
   },
   {
    "duration": 7,
    "start_time": "2024-01-19T23:43:04.841Z"
   },
   {
    "duration": 10,
    "start_time": "2024-01-19T23:43:04.850Z"
   },
   {
    "duration": 42,
    "start_time": "2024-01-19T23:43:04.861Z"
   },
   {
    "duration": 20,
    "start_time": "2024-01-19T23:43:04.904Z"
   },
   {
    "duration": 20,
    "start_time": "2024-01-19T23:43:04.925Z"
   },
   {
    "duration": 33,
    "start_time": "2024-01-19T23:43:04.947Z"
   },
   {
    "duration": 21,
    "start_time": "2024-01-19T23:43:04.981Z"
   },
   {
    "duration": 15,
    "start_time": "2024-01-19T23:43:05.004Z"
   },
   {
    "duration": 19,
    "start_time": "2024-01-19T23:43:05.021Z"
   },
   {
    "duration": 63,
    "start_time": "2024-01-19T23:43:05.041Z"
   },
   {
    "duration": 34,
    "start_time": "2024-01-19T23:43:05.105Z"
   },
   {
    "duration": 42,
    "start_time": "2024-01-19T23:43:05.140Z"
   },
   {
    "duration": 37,
    "start_time": "2024-01-19T23:43:05.183Z"
   },
   {
    "duration": 35,
    "start_time": "2024-01-19T23:43:05.223Z"
   },
   {
    "duration": 23,
    "start_time": "2024-01-19T23:43:20.775Z"
   },
   {
    "duration": 463,
    "start_time": "2024-01-19T23:51:01.354Z"
   },
   {
    "duration": 23,
    "start_time": "2024-01-19T23:51:01.819Z"
   },
   {
    "duration": 77,
    "start_time": "2024-01-19T23:51:01.844Z"
   },
   {
    "duration": 52,
    "start_time": "2024-01-19T23:51:01.924Z"
   },
   {
    "duration": 61,
    "start_time": "2024-01-19T23:51:01.978Z"
   },
   {
    "duration": 47,
    "start_time": "2024-01-19T23:51:02.041Z"
   },
   {
    "duration": 49,
    "start_time": "2024-01-19T23:51:02.090Z"
   },
   {
    "duration": 47,
    "start_time": "2024-01-19T23:51:02.141Z"
   },
   {
    "duration": 22,
    "start_time": "2024-01-19T23:51:02.190Z"
   },
   {
    "duration": 21,
    "start_time": "2024-01-19T23:51:02.215Z"
   },
   {
    "duration": 66,
    "start_time": "2024-01-19T23:51:02.237Z"
   },
   {
    "duration": 9,
    "start_time": "2024-01-19T23:51:02.305Z"
   },
   {
    "duration": 15,
    "start_time": "2024-01-19T23:51:02.315Z"
   },
   {
    "duration": 23,
    "start_time": "2024-01-19T23:51:02.332Z"
   },
   {
    "duration": 36,
    "start_time": "2024-01-19T23:51:02.356Z"
   },
   {
    "duration": 15,
    "start_time": "2024-01-19T23:51:02.394Z"
   },
   {
    "duration": 3,
    "start_time": "2024-01-19T23:51:02.411Z"
   },
   {
    "duration": 28,
    "start_time": "2024-01-19T23:51:02.416Z"
   },
   {
    "duration": 33,
    "start_time": "2024-01-19T23:51:02.445Z"
   },
   {
    "duration": 11,
    "start_time": "2024-01-19T23:51:02.480Z"
   },
   {
    "duration": 22,
    "start_time": "2024-01-19T23:51:02.493Z"
   },
   {
    "duration": 28,
    "start_time": "2024-01-19T23:51:02.516Z"
   },
   {
    "duration": 40,
    "start_time": "2024-01-19T23:51:02.546Z"
   },
   {
    "duration": 24,
    "start_time": "2024-01-19T23:51:02.588Z"
   },
   {
    "duration": 25,
    "start_time": "2024-01-19T23:51:02.613Z"
   },
   {
    "duration": 22,
    "start_time": "2024-01-19T23:51:02.640Z"
   },
   {
    "duration": 28,
    "start_time": "2024-01-19T23:51:02.664Z"
   },
   {
    "duration": 22,
    "start_time": "2024-01-19T23:51:02.721Z"
   },
   {
    "duration": 27,
    "start_time": "2024-01-19T23:51:02.745Z"
   },
   {
    "duration": 459,
    "start_time": "2024-01-19T23:54:34.737Z"
   },
   {
    "duration": 21,
    "start_time": "2024-01-19T23:54:35.198Z"
   },
   {
    "duration": 30,
    "start_time": "2024-01-19T23:54:35.221Z"
   },
   {
    "duration": 54,
    "start_time": "2024-01-19T23:54:35.253Z"
   },
   {
    "duration": 41,
    "start_time": "2024-01-19T23:54:35.308Z"
   },
   {
    "duration": 2,
    "start_time": "2024-01-19T23:54:35.351Z"
   },
   {
    "duration": 71,
    "start_time": "2024-01-19T23:54:35.355Z"
   },
   {
    "duration": 9,
    "start_time": "2024-01-19T23:54:35.427Z"
   },
   {
    "duration": 9,
    "start_time": "2024-01-19T23:54:35.437Z"
   },
   {
    "duration": 8,
    "start_time": "2024-01-19T23:54:35.449Z"
   },
   {
    "duration": 56,
    "start_time": "2024-01-19T23:54:35.458Z"
   },
   {
    "duration": 10,
    "start_time": "2024-01-19T23:54:35.515Z"
   },
   {
    "duration": 12,
    "start_time": "2024-01-19T23:54:35.526Z"
   },
   {
    "duration": 28,
    "start_time": "2024-01-19T23:54:35.539Z"
   },
   {
    "duration": 21,
    "start_time": "2024-01-19T23:54:35.568Z"
   },
   {
    "duration": 16,
    "start_time": "2024-01-19T23:54:35.590Z"
   },
   {
    "duration": 4,
    "start_time": "2024-01-19T23:54:35.608Z"
   },
   {
    "duration": 31,
    "start_time": "2024-01-19T23:54:35.613Z"
   },
   {
    "duration": 10,
    "start_time": "2024-01-19T23:54:35.645Z"
   },
   {
    "duration": 12,
    "start_time": "2024-01-19T23:54:35.657Z"
   },
   {
    "duration": 44,
    "start_time": "2024-01-19T23:54:35.670Z"
   },
   {
    "duration": 26,
    "start_time": "2024-01-19T23:54:35.716Z"
   },
   {
    "duration": 28,
    "start_time": "2024-01-19T23:54:35.743Z"
   },
   {
    "duration": 19,
    "start_time": "2024-01-19T23:54:35.772Z"
   },
   {
    "duration": 44,
    "start_time": "2024-01-19T23:54:35.793Z"
   },
   {
    "duration": 18,
    "start_time": "2024-01-19T23:54:35.838Z"
   },
   {
    "duration": 24,
    "start_time": "2024-01-19T23:54:35.858Z"
   },
   {
    "duration": 43,
    "start_time": "2024-01-19T23:54:35.884Z"
   },
   {
    "duration": 27,
    "start_time": "2024-01-19T23:54:35.929Z"
   }
  ],
  "colab": {
   "provenance": []
  },
  "kernelspec": {
   "display_name": "Python 3 (ipykernel)",
   "language": "python",
   "name": "python3"
  },
  "language_info": {
   "codemirror_mode": {
    "name": "ipython",
    "version": 3
   },
   "file_extension": ".py",
   "mimetype": "text/x-python",
   "name": "python",
   "nbconvert_exporter": "python",
   "pygments_lexer": "ipython3",
   "version": "3.9.5"
  },
  "toc": {
   "base_numbering": 1,
   "nav_menu": {},
   "number_sections": true,
   "sideBar": true,
   "skip_h1_title": true,
   "title_cell": "Table of Contents",
   "title_sidebar": "Contents",
   "toc_cell": false,
   "toc_position": {},
   "toc_section_display": true,
   "toc_window_display": false
  }
 },
 "nbformat": 4,
 "nbformat_minor": 5
}
